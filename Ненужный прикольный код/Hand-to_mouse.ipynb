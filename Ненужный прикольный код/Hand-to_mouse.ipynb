{
 "cells": [
  {
   "cell_type": "code",
   "execution_count": 1,
   "id": "c9b90845",
   "metadata": {},
   "outputs": [
    {
     "ename": "ModuleNotFoundError",
     "evalue": "No module named 'cv2'",
     "output_type": "error",
     "traceback": [
      "\u001b[1;31m---------------------------------------------------------------------------\u001b[0m",
      "\u001b[1;31mModuleNotFoundError\u001b[0m                       Traceback (most recent call last)",
      "\u001b[1;32mc:\\Users\\voval\\YandexDisk\\Ноутбук\\Код\\Hand-to_mouse.ipynb Ячейка 1\u001b[0m in \u001b[0;36m<cell line: 1>\u001b[1;34m()\u001b[0m\n\u001b[1;32m----> <a href='vscode-notebook-cell:/c%3A/Users/voval/YandexDisk/%D0%9D%D0%BE%D1%83%D1%82%D0%B1%D1%83%D0%BA/%D0%9A%D0%BE%D0%B4/Hand-to_mouse.ipynb#W0sZmlsZQ%3D%3D?line=0'>1</a>\u001b[0m \u001b[39mimport\u001b[39;00m \u001b[39mcv2\u001b[39;00m\n\u001b[0;32m      <a href='vscode-notebook-cell:/c%3A/Users/voval/YandexDisk/%D0%9D%D0%BE%D1%83%D1%82%D0%B1%D1%83%D0%BA/%D0%9A%D0%BE%D0%B4/Hand-to_mouse.ipynb#W0sZmlsZQ%3D%3D?line=1'>2</a>\u001b[0m \u001b[39mimport\u001b[39;00m \u001b[39mpyautogui\u001b[39;00m \u001b[39mas\u001b[39;00m \u001b[39mpg\u001b[39;00m\n\u001b[0;32m      <a href='vscode-notebook-cell:/c%3A/Users/voval/YandexDisk/%D0%9D%D0%BE%D1%83%D1%82%D0%B1%D1%83%D0%BA/%D0%9A%D0%BE%D0%B4/Hand-to_mouse.ipynb#W0sZmlsZQ%3D%3D?line=2'>3</a>\u001b[0m \u001b[39mimport\u001b[39;00m \u001b[39mmediapipe\u001b[39;00m \u001b[39mas\u001b[39;00m \u001b[39mmp\u001b[39;00m\n",
      "\u001b[1;31mModuleNotFoundError\u001b[0m: No module named 'cv2'"
     ]
    }
   ],
   "source": [
    "import cv2\n",
    "import pyautogui as pg\n",
    "import mediapipe as mp\n",
    "import math\n",
    "import time"
   ]
  },
  {
   "cell_type": "code",
   "execution_count": null,
   "id": "22d65221",
   "metadata": {},
   "outputs": [],
   "source": [
    "cap = cv2.VideoCapture(0)\n",
    "\n",
    "hands = mp.solutions.hands.Hands(static_image_mode=False,\n",
    "                                 max_num_hands=1,\n",
    "                                 min_tracking_confidence=0.5,\n",
    "                                 min_detection_confidence=0.5)"
   ]
  },
  {
   "cell_type": "code",
   "execution_count": null,
   "id": "e326a1bc",
   "metadata": {},
   "outputs": [],
   "source": [
    "mode = 15"
   ]
  },
  {
   "cell_type": "code",
   "execution_count": 4,
   "id": "2df2cb55",
   "metadata": {},
   "outputs": [
    {
     "ename": "KeyboardInterrupt",
     "evalue": "",
     "output_type": "error",
     "traceback": [
      "\u001b[1;31m---------------------------------------------------------------------------\u001b[0m",
      "\u001b[1;31mKeyboardInterrupt\u001b[0m                         Traceback (most recent call last)",
      "Input \u001b[1;32mIn [4]\u001b[0m, in \u001b[0;36m<cell line: 9>\u001b[1;34m()\u001b[0m\n\u001b[0;32m     40\u001b[0m length \u001b[38;5;241m=\u001b[39m ((x1 \u001b[38;5;241m-\u001b[39m x2)\u001b[38;5;241m*\u001b[39m\u001b[38;5;241m*\u001b[39m\u001b[38;5;241m2\u001b[39m \u001b[38;5;241m+\u001b[39m (y1 \u001b[38;5;241m-\u001b[39m y2)\u001b[38;5;241m*\u001b[39m\u001b[38;5;241m*\u001b[39m\u001b[38;5;241m2\u001b[39m)\u001b[38;5;241m*\u001b[39m\u001b[38;5;241m*\u001b[39m\u001b[38;5;241m0.5\u001b[39m\n\u001b[0;32m     42\u001b[0m \u001b[38;5;28;01mif\u001b[39;00m length \u001b[38;5;241m<\u001b[39m mode\u001b[38;5;241m+\u001b[39m\u001b[38;5;241m5\u001b[39m:\n\u001b[1;32m---> 44\u001b[0m     \u001b[43mpg\u001b[49m\u001b[38;5;241;43m.\u001b[39;49m\u001b[43mclick\u001b[49m\u001b[43m(\u001b[49m\u001b[38;5;28;43mlist\u001b[39;49m\u001b[43m(\u001b[49m\u001b[43mpg\u001b[49m\u001b[38;5;241;43m.\u001b[39;49m\u001b[43mposition\u001b[49m\u001b[43m(\u001b[49m\u001b[43m)\u001b[49m\u001b[43m)\u001b[49m\u001b[43m[\u001b[49m\u001b[38;5;241;43m0\u001b[39;49m\u001b[43m]\u001b[49m\u001b[43m,\u001b[49m\u001b[43m\\\u001b[49m\n\u001b[0;32m     45\u001b[0m \u001b[43m             \u001b[49m\u001b[38;5;28;43mlist\u001b[39;49m\u001b[43m(\u001b[49m\u001b[43mpg\u001b[49m\u001b[38;5;241;43m.\u001b[39;49m\u001b[43mposition\u001b[49m\u001b[43m(\u001b[49m\u001b[43m)\u001b[49m\u001b[43m)\u001b[49m\u001b[43m[\u001b[49m\u001b[38;5;241;43m1\u001b[39;49m\u001b[43m]\u001b[49m\u001b[43m)\u001b[49m\n\u001b[0;32m     46\u001b[0m     time\u001b[38;5;241m.\u001b[39msleep(\u001b[38;5;241m0.05\u001b[39m)\n",
      "File \u001b[1;32m~\\anaconda3\\lib\\site-packages\\pyautogui\\__init__.py:599\u001b[0m, in \u001b[0;36m_genericPyAutoGUIChecks.<locals>.wrapper\u001b[1;34m(*args, **kwargs)\u001b[0m\n\u001b[0;32m    597\u001b[0m failSafeCheck()\n\u001b[0;32m    598\u001b[0m returnVal \u001b[38;5;241m=\u001b[39m wrappedFunction(\u001b[38;5;241m*\u001b[39margs, \u001b[38;5;241m*\u001b[39m\u001b[38;5;241m*\u001b[39mkwargs)\n\u001b[1;32m--> 599\u001b[0m \u001b[43m_handlePause\u001b[49m\u001b[43m(\u001b[49m\u001b[43mkwargs\u001b[49m\u001b[38;5;241;43m.\u001b[39;49m\u001b[43mget\u001b[49m\u001b[43m(\u001b[49m\u001b[38;5;124;43m\"\u001b[39;49m\u001b[38;5;124;43m_pause\u001b[39;49m\u001b[38;5;124;43m\"\u001b[39;49m\u001b[43m,\u001b[49m\u001b[43m \u001b[49m\u001b[38;5;28;43;01mTrue\u001b[39;49;00m\u001b[43m)\u001b[49m\u001b[43m)\u001b[49m\n\u001b[0;32m    600\u001b[0m \u001b[38;5;28;01mreturn\u001b[39;00m returnVal\n",
      "File \u001b[1;32m~\\anaconda3\\lib\\site-packages\\pyautogui\\__init__.py:643\u001b[0m, in \u001b[0;36m_handlePause\u001b[1;34m(_pause)\u001b[0m\n\u001b[0;32m    641\u001b[0m \u001b[38;5;28;01mif\u001b[39;00m _pause:\n\u001b[0;32m    642\u001b[0m     \u001b[38;5;28;01massert\u001b[39;00m \u001b[38;5;28misinstance\u001b[39m(PAUSE, \u001b[38;5;28mint\u001b[39m) \u001b[38;5;129;01mor\u001b[39;00m \u001b[38;5;28misinstance\u001b[39m(PAUSE, \u001b[38;5;28mfloat\u001b[39m)\n\u001b[1;32m--> 643\u001b[0m     \u001b[43mtime\u001b[49m\u001b[38;5;241;43m.\u001b[39;49m\u001b[43msleep\u001b[49m\u001b[43m(\u001b[49m\u001b[43mPAUSE\u001b[49m\u001b[43m)\u001b[49m\n",
      "\u001b[1;31mKeyboardInterrupt\u001b[0m: "
     ]
    }
   ],
   "source": [
    "width, height = pg.size()\n",
    "prev_x = width\n",
    "prev_y = height\n",
    "pg.FAILSAFE = False\n",
    "_, img = cap.read()\n",
    "h, w = img.shape[:2]\n",
    "k = 1.05\n",
    "while True:\n",
    "    _, img = cap.read()\n",
    "    result = hands.process(img)\n",
    "    \n",
    "    \n",
    "    if result.multi_hand_landmarks:\n",
    "        lm_all = result.multi_hand_landmarks[0].landmark\n",
    "        lm1 = lm_all[8]\n",
    "        lm2 = lm_all[7]\n",
    "#         print(lm1.z)\n",
    "        x1, x2, y1, y2 = w - lm1.x*w, w - lm2.x*w,\\\n",
    "                         h - lm1.y*h, h - lm2.y*h\n",
    "        length = ((x1 - x2)**2 + (y1 - y2)**2)**0.5\n",
    "\n",
    "        if y1 > y2:    \n",
    "            angle = math.acos((x1 - x2)/length)\n",
    "        else:\n",
    "            angle = math.pi * 2 - math.acos((x1 - x2)/length)\n",
    "        \n",
    "        if length > mode:\n",
    "\n",
    "            pg.moveRel(math.cos(angle)*length*k,\n",
    "                       -math.sin(angle)*length*k,\n",
    "                       0.01)\n",
    "            k*= 1.05\n",
    "            \n",
    "        else:\n",
    "            k = 1.05\n",
    "            lm1 = lm_all[4]\n",
    "            lm2 = lm_all[12]\n",
    "            x1, x2, y1, y2 = w - lm1.x*w, w - lm2.x*w,\\\n",
    "                             h - lm1.y*h, h - lm2.y*h\n",
    "            length = ((x1 - x2)**2 + (y1 - y2)**2)**0.5\n",
    "        \n",
    "            if length < mode+5:\n",
    "\n",
    "                pg.click(list(pg.position())[0],\\\n",
    "                         list(pg.position())[1])\n",
    "                time.sleep(0.05)"
   ]
  },
  {
   "cell_type": "code",
   "execution_count": null,
   "id": "41928699",
   "metadata": {},
   "outputs": [],
   "source": []
  },
  {
   "cell_type": "code",
   "execution_count": null,
   "id": "d80464d0",
   "metadata": {},
   "outputs": [],
   "source": []
  }
 ],
 "metadata": {
  "kernelspec": {
   "display_name": "Python 3.9.13 64-bit",
   "language": "python",
   "name": "python3"
  },
  "language_info": {
   "codemirror_mode": {
    "name": "ipython",
    "version": 3
   },
   "file_extension": ".py",
   "mimetype": "text/x-python",
   "name": "python",
   "nbconvert_exporter": "python",
   "pygments_lexer": "ipython3",
   "version": "3.9.13"
  },
  "vscode": {
   "interpreter": {
    "hash": "a6c21c83ec357e72d414a1295cd78d3a1d08e2aa947ca40bbce2137d18934f0a"
   }
  }
 },
 "nbformat": 4,
 "nbformat_minor": 5
}
