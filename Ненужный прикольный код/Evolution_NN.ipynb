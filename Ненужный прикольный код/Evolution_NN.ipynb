{
 "cells": [
  {
   "cell_type": "code",
   "execution_count": 1,
   "id": "80d7efd7",
   "metadata": {},
   "outputs": [],
   "source": [
    "import numpy as np"
   ]
  },
  {
   "cell_type": "code",
   "execution_count": 48,
   "id": "e7f0ac0e",
   "metadata": {},
   "outputs": [],
   "source": [
    "class Neuron:\n",
    "    def __init__(self, n, def_activation):\n",
    "        self.weights = np.random.uniform(0,1,n)\n",
    "        self.bias = np.random.uniform(0,1,1)\n",
    "        self.def_activation = def_activation\n",
    "        \n",
    "    def adder(self, inputs):\n",
    "        return sum(self.weights * inputs) + self.bias\n",
    "    \n",
    "    def activation(self, inputs):\n",
    "        return self.def_activation(self.adder(inputs))"
   ]
  },
  {
   "cell_type": "code",
   "execution_count": 49,
   "id": "4826136b",
   "metadata": {},
   "outputs": [],
   "source": [
    "def LeakyReLU(x, alpha = 0.01):\n",
    "    return x if x > 0 else alpha*x"
   ]
  },
  {
   "cell_type": "code",
   "execution_count": 62,
   "id": "3cb5084b",
   "metadata": {},
   "outputs": [],
   "source": [
    "class Layer:\n",
    "    def __init__(self, num_of_N, inputs, activation):\n",
    "        self.neurons = [Neuron(inputs, activation) for _ in range(num_of_N)]\n",
    "        \n",
    "    def output(self, inputs):\n",
    "        return np.array([Ner.activation(inputs)[0] for Ner in self.neurons])\n",
    "        "
   ]
  },
  {
   "cell_type": "code",
   "execution_count": 89,
   "id": "67df0ddc",
   "metadata": {},
   "outputs": [],
   "source": [
    "layer1 = Layer(5, 4, LeakyReLU)\n",
    "layer2 = Layer(2, 5, LeakyReLU)"
   ]
  },
  {
   "cell_type": "code",
   "execution_count": 119,
   "id": "ed0c4137",
   "metadata": {},
   "outputs": [],
   "source": [
    "NN = [layer1, layer2]"
   ]
  },
  {
   "cell_type": "code",
   "execution_count": null,
   "id": "d3c92fcc",
   "metadata": {},
   "outputs": [],
   "source": []
  },
  {
   "cell_type": "code",
   "execution_count": 118,
   "id": "93773e0d",
   "metadata": {},
   "outputs": [
    {
     "name": "stdout",
     "output_type": "stream",
     "text": [
      "CPU times: total: 0 ns\n",
      "Wall time: 0 ns\n"
     ]
    },
    {
     "data": {
      "text/plain": [
       "array([18.20418704, 18.34149586])"
      ]
     },
     "execution_count": 118,
     "metadata": {},
     "output_type": "execute_result"
    }
   ],
   "source": [
    "inputs = np.array([1,2,3,4])\n",
    "output = layer1.output(inputs)\n",
    "output = layer2.output(output)\n",
    "output"
   ]
  },
  {
   "cell_type": "code",
   "execution_count": null,
   "id": "e909d983",
   "metadata": {},
   "outputs": [],
   "source": []
  },
  {
   "cell_type": "code",
   "execution_count": 69,
   "id": "37d2cbb1",
   "metadata": {},
   "outputs": [
    {
     "data": {
      "text/plain": [
       "array([21.22628577, 15.68239209])"
      ]
     },
     "execution_count": 69,
     "metadata": {},
     "output_type": "execute_result"
    }
   ],
   "source": [
    "output"
   ]
  },
  {
   "cell_type": "code",
   "execution_count": null,
   "id": "9f8441cd",
   "metadata": {},
   "outputs": [],
   "source": []
  }
 ],
 "metadata": {
  "kernelspec": {
   "display_name": "Python 3 (ipykernel)",
   "language": "python",
   "name": "python3"
  },
  "language_info": {
   "codemirror_mode": {
    "name": "ipython",
    "version": 3
   },
   "file_extension": ".py",
   "mimetype": "text/x-python",
   "name": "python",
   "nbconvert_exporter": "python",
   "pygments_lexer": "ipython3",
   "version": "3.9.12"
  }
 },
 "nbformat": 4,
 "nbformat_minor": 5
}
