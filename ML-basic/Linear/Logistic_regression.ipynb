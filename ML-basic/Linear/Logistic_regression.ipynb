{
 "cells": [
  {
   "cell_type": "markdown",
   "metadata": {
    "papermill": {
     "duration": 0.019748,
     "end_time": "2021-07-12T11:03:32.965769",
     "exception": false,
     "start_time": "2021-07-12T11:03:32.946021",
     "status": "completed"
    },
    "tags": []
   },
   "source": [
    "# Import"
   ]
  },
  {
   "cell_type": "code",
   "execution_count": 2,
   "metadata": {
    "execution": {
     "iopub.execute_input": "2021-07-12T11:03:33.012981Z",
     "iopub.status.busy": "2021-07-12T11:03:33.012305Z",
     "iopub.status.idle": "2021-07-12T11:03:38.862469Z",
     "shell.execute_reply": "2021-07-12T11:03:38.861803Z",
     "shell.execute_reply.started": "2021-07-12T11:01:20.656786Z"
    },
    "papermill": {
     "duration": 5.878201,
     "end_time": "2021-07-12T11:03:38.862670",
     "exception": false,
     "start_time": "2021-07-12T11:03:32.984469",
     "status": "completed"
    },
    "tags": []
   },
   "outputs": [],
   "source": [
    "import tensorflow as tf\n",
    "import numpy as np\n",
    "import pandas as pd\n",
    "import matplotlib.pyplot as plt\n",
    "import seaborn as sns"
   ]
  },
  {
   "cell_type": "code",
   "execution_count": 3,
   "metadata": {
    "execution": {
     "iopub.execute_input": "2021-07-12T11:03:38.904924Z",
     "iopub.status.busy": "2021-07-12T11:03:38.904258Z",
     "iopub.status.idle": "2021-07-12T11:03:38.957878Z",
     "shell.execute_reply": "2021-07-12T11:03:38.958391Z",
     "shell.execute_reply.started": "2021-07-12T11:01:31.641286Z"
    },
    "papermill": {
     "duration": 0.077173,
     "end_time": "2021-07-12T11:03:38.958556",
     "exception": false,
     "start_time": "2021-07-12T11:03:38.881383",
     "status": "completed"
    },
    "tags": []
   },
   "outputs": [
    {
     "data": {
      "text/html": [
       "<div>\n",
       "<style scoped>\n",
       "    .dataframe tbody tr th:only-of-type {\n",
       "        vertical-align: middle;\n",
       "    }\n",
       "\n",
       "    .dataframe tbody tr th {\n",
       "        vertical-align: top;\n",
       "    }\n",
       "\n",
       "    .dataframe thead th {\n",
       "        text-align: right;\n",
       "    }\n",
       "</style>\n",
       "<table border=\"1\" class=\"dataframe\">\n",
       "  <thead>\n",
       "    <tr style=\"text-align: right;\">\n",
       "      <th></th>\n",
       "      <th>Age</th>\n",
       "      <th>Gender</th>\n",
       "      <th>Polyuria</th>\n",
       "      <th>Polydipsia</th>\n",
       "      <th>sudden weight loss</th>\n",
       "      <th>weakness</th>\n",
       "      <th>Polyphagia</th>\n",
       "      <th>Genital thrush</th>\n",
       "      <th>visual blurring</th>\n",
       "      <th>Itching</th>\n",
       "      <th>Irritability</th>\n",
       "      <th>delayed healing</th>\n",
       "      <th>partial paresis</th>\n",
       "      <th>muscle stiffness</th>\n",
       "      <th>Alopecia</th>\n",
       "      <th>Obesity</th>\n",
       "      <th>class</th>\n",
       "    </tr>\n",
       "  </thead>\n",
       "  <tbody>\n",
       "    <tr>\n",
       "      <th>0</th>\n",
       "      <td>40</td>\n",
       "      <td>Male</td>\n",
       "      <td>No</td>\n",
       "      <td>Yes</td>\n",
       "      <td>No</td>\n",
       "      <td>Yes</td>\n",
       "      <td>No</td>\n",
       "      <td>No</td>\n",
       "      <td>No</td>\n",
       "      <td>Yes</td>\n",
       "      <td>No</td>\n",
       "      <td>Yes</td>\n",
       "      <td>No</td>\n",
       "      <td>Yes</td>\n",
       "      <td>Yes</td>\n",
       "      <td>Yes</td>\n",
       "      <td>Positive</td>\n",
       "    </tr>\n",
       "    <tr>\n",
       "      <th>1</th>\n",
       "      <td>58</td>\n",
       "      <td>Male</td>\n",
       "      <td>No</td>\n",
       "      <td>No</td>\n",
       "      <td>No</td>\n",
       "      <td>Yes</td>\n",
       "      <td>No</td>\n",
       "      <td>No</td>\n",
       "      <td>Yes</td>\n",
       "      <td>No</td>\n",
       "      <td>No</td>\n",
       "      <td>No</td>\n",
       "      <td>Yes</td>\n",
       "      <td>No</td>\n",
       "      <td>Yes</td>\n",
       "      <td>No</td>\n",
       "      <td>Positive</td>\n",
       "    </tr>\n",
       "    <tr>\n",
       "      <th>2</th>\n",
       "      <td>41</td>\n",
       "      <td>Male</td>\n",
       "      <td>Yes</td>\n",
       "      <td>No</td>\n",
       "      <td>No</td>\n",
       "      <td>Yes</td>\n",
       "      <td>Yes</td>\n",
       "      <td>No</td>\n",
       "      <td>No</td>\n",
       "      <td>Yes</td>\n",
       "      <td>No</td>\n",
       "      <td>Yes</td>\n",
       "      <td>No</td>\n",
       "      <td>Yes</td>\n",
       "      <td>Yes</td>\n",
       "      <td>No</td>\n",
       "      <td>Positive</td>\n",
       "    </tr>\n",
       "    <tr>\n",
       "      <th>3</th>\n",
       "      <td>45</td>\n",
       "      <td>Male</td>\n",
       "      <td>No</td>\n",
       "      <td>No</td>\n",
       "      <td>Yes</td>\n",
       "      <td>Yes</td>\n",
       "      <td>Yes</td>\n",
       "      <td>Yes</td>\n",
       "      <td>No</td>\n",
       "      <td>Yes</td>\n",
       "      <td>No</td>\n",
       "      <td>Yes</td>\n",
       "      <td>No</td>\n",
       "      <td>No</td>\n",
       "      <td>No</td>\n",
       "      <td>No</td>\n",
       "      <td>Positive</td>\n",
       "    </tr>\n",
       "    <tr>\n",
       "      <th>4</th>\n",
       "      <td>60</td>\n",
       "      <td>Male</td>\n",
       "      <td>Yes</td>\n",
       "      <td>Yes</td>\n",
       "      <td>Yes</td>\n",
       "      <td>Yes</td>\n",
       "      <td>Yes</td>\n",
       "      <td>No</td>\n",
       "      <td>Yes</td>\n",
       "      <td>Yes</td>\n",
       "      <td>Yes</td>\n",
       "      <td>Yes</td>\n",
       "      <td>Yes</td>\n",
       "      <td>Yes</td>\n",
       "      <td>Yes</td>\n",
       "      <td>Yes</td>\n",
       "      <td>Positive</td>\n",
       "    </tr>\n",
       "    <tr>\n",
       "      <th>5</th>\n",
       "      <td>55</td>\n",
       "      <td>Male</td>\n",
       "      <td>Yes</td>\n",
       "      <td>Yes</td>\n",
       "      <td>No</td>\n",
       "      <td>Yes</td>\n",
       "      <td>Yes</td>\n",
       "      <td>No</td>\n",
       "      <td>Yes</td>\n",
       "      <td>Yes</td>\n",
       "      <td>No</td>\n",
       "      <td>Yes</td>\n",
       "      <td>No</td>\n",
       "      <td>Yes</td>\n",
       "      <td>Yes</td>\n",
       "      <td>Yes</td>\n",
       "      <td>Positive</td>\n",
       "    </tr>\n",
       "    <tr>\n",
       "      <th>6</th>\n",
       "      <td>57</td>\n",
       "      <td>Male</td>\n",
       "      <td>Yes</td>\n",
       "      <td>Yes</td>\n",
       "      <td>No</td>\n",
       "      <td>Yes</td>\n",
       "      <td>Yes</td>\n",
       "      <td>Yes</td>\n",
       "      <td>No</td>\n",
       "      <td>No</td>\n",
       "      <td>No</td>\n",
       "      <td>Yes</td>\n",
       "      <td>Yes</td>\n",
       "      <td>No</td>\n",
       "      <td>No</td>\n",
       "      <td>No</td>\n",
       "      <td>Positive</td>\n",
       "    </tr>\n",
       "    <tr>\n",
       "      <th>7</th>\n",
       "      <td>66</td>\n",
       "      <td>Male</td>\n",
       "      <td>Yes</td>\n",
       "      <td>Yes</td>\n",
       "      <td>Yes</td>\n",
       "      <td>Yes</td>\n",
       "      <td>No</td>\n",
       "      <td>No</td>\n",
       "      <td>Yes</td>\n",
       "      <td>Yes</td>\n",
       "      <td>Yes</td>\n",
       "      <td>No</td>\n",
       "      <td>Yes</td>\n",
       "      <td>Yes</td>\n",
       "      <td>No</td>\n",
       "      <td>No</td>\n",
       "      <td>Positive</td>\n",
       "    </tr>\n",
       "    <tr>\n",
       "      <th>8</th>\n",
       "      <td>67</td>\n",
       "      <td>Male</td>\n",
       "      <td>Yes</td>\n",
       "      <td>Yes</td>\n",
       "      <td>No</td>\n",
       "      <td>Yes</td>\n",
       "      <td>Yes</td>\n",
       "      <td>Yes</td>\n",
       "      <td>No</td>\n",
       "      <td>Yes</td>\n",
       "      <td>Yes</td>\n",
       "      <td>No</td>\n",
       "      <td>Yes</td>\n",
       "      <td>Yes</td>\n",
       "      <td>No</td>\n",
       "      <td>Yes</td>\n",
       "      <td>Positive</td>\n",
       "    </tr>\n",
       "    <tr>\n",
       "      <th>9</th>\n",
       "      <td>70</td>\n",
       "      <td>Male</td>\n",
       "      <td>No</td>\n",
       "      <td>Yes</td>\n",
       "      <td>Yes</td>\n",
       "      <td>Yes</td>\n",
       "      <td>Yes</td>\n",
       "      <td>No</td>\n",
       "      <td>Yes</td>\n",
       "      <td>Yes</td>\n",
       "      <td>Yes</td>\n",
       "      <td>No</td>\n",
       "      <td>No</td>\n",
       "      <td>No</td>\n",
       "      <td>Yes</td>\n",
       "      <td>No</td>\n",
       "      <td>Positive</td>\n",
       "    </tr>\n",
       "  </tbody>\n",
       "</table>\n",
       "</div>"
      ],
      "text/plain": [
       "   Age Gender Polyuria Polydipsia sudden weight loss weakness Polyphagia  \\\n",
       "0   40   Male       No        Yes                 No      Yes         No   \n",
       "1   58   Male       No         No                 No      Yes         No   \n",
       "2   41   Male      Yes         No                 No      Yes        Yes   \n",
       "3   45   Male       No         No                Yes      Yes        Yes   \n",
       "4   60   Male      Yes        Yes                Yes      Yes        Yes   \n",
       "5   55   Male      Yes        Yes                 No      Yes        Yes   \n",
       "6   57   Male      Yes        Yes                 No      Yes        Yes   \n",
       "7   66   Male      Yes        Yes                Yes      Yes         No   \n",
       "8   67   Male      Yes        Yes                 No      Yes        Yes   \n",
       "9   70   Male       No        Yes                Yes      Yes        Yes   \n",
       "\n",
       "  Genital thrush visual blurring Itching Irritability delayed healing  \\\n",
       "0             No              No     Yes           No             Yes   \n",
       "1             No             Yes      No           No              No   \n",
       "2             No              No     Yes           No             Yes   \n",
       "3            Yes              No     Yes           No             Yes   \n",
       "4             No             Yes     Yes          Yes             Yes   \n",
       "5             No             Yes     Yes           No             Yes   \n",
       "6            Yes              No      No           No             Yes   \n",
       "7             No             Yes     Yes          Yes              No   \n",
       "8            Yes              No     Yes          Yes              No   \n",
       "9             No             Yes     Yes          Yes              No   \n",
       "\n",
       "  partial paresis muscle stiffness Alopecia Obesity     class  \n",
       "0              No              Yes      Yes     Yes  Positive  \n",
       "1             Yes               No      Yes      No  Positive  \n",
       "2              No              Yes      Yes      No  Positive  \n",
       "3              No               No       No      No  Positive  \n",
       "4             Yes              Yes      Yes     Yes  Positive  \n",
       "5              No              Yes      Yes     Yes  Positive  \n",
       "6             Yes               No       No      No  Positive  \n",
       "7             Yes              Yes       No      No  Positive  \n",
       "8             Yes              Yes       No     Yes  Positive  \n",
       "9              No               No      Yes      No  Positive  "
      ]
     },
     "execution_count": 3,
     "metadata": {},
     "output_type": "execute_result"
    }
   ],
   "source": [
    "diabets_df = pd.read_csv('datasets/diabetes.csv')\n",
    "diabets_df.head(10)"
   ]
  },
  {
   "cell_type": "markdown",
   "metadata": {
    "papermill": {
     "duration": 0.018795,
     "end_time": "2021-07-12T11:03:38.996977",
     "exception": false,
     "start_time": "2021-07-12T11:03:38.978182",
     "status": "completed"
    },
    "tags": []
   },
   "source": [
    "# analysis"
   ]
  },
  {
   "cell_type": "code",
   "execution_count": 4,
   "metadata": {
    "execution": {
     "iopub.execute_input": "2021-07-12T11:03:39.045460Z",
     "iopub.status.busy": "2021-07-12T11:03:39.044449Z",
     "iopub.status.idle": "2021-07-12T11:03:39.048819Z",
     "shell.execute_reply": "2021-07-12T11:03:39.048282Z",
     "shell.execute_reply.started": "2021-07-12T11:01:35.862142Z"
    },
    "papermill": {
     "duration": 0.032698,
     "end_time": "2021-07-12T11:03:39.048968",
     "exception": false,
     "start_time": "2021-07-12T11:03:39.016270",
     "status": "completed"
    },
    "tags": []
   },
   "outputs": [
    {
     "data": {
      "text/plain": [
       "Age                   0\n",
       "Gender                0\n",
       "Polyuria              0\n",
       "Polydipsia            0\n",
       "sudden weight loss    0\n",
       "weakness              0\n",
       "Polyphagia            0\n",
       "Genital thrush        0\n",
       "visual blurring       0\n",
       "Itching               0\n",
       "Irritability          0\n",
       "delayed healing       0\n",
       "partial paresis       0\n",
       "muscle stiffness      0\n",
       "Alopecia              0\n",
       "Obesity               0\n",
       "class                 0\n",
       "dtype: int64"
      ]
     },
     "execution_count": 4,
     "metadata": {},
     "output_type": "execute_result"
    }
   ],
   "source": [
    "diabets_df.isnull().sum(axis=0)"
   ]
  },
  {
   "cell_type": "code",
   "execution_count": 5,
   "metadata": {
    "execution": {
     "iopub.execute_input": "2021-07-12T11:03:39.119442Z",
     "iopub.status.busy": "2021-07-12T11:03:39.114328Z",
     "iopub.status.idle": "2021-07-12T11:03:39.359940Z",
     "shell.execute_reply": "2021-07-12T11:03:39.360380Z",
     "shell.execute_reply.started": "2021-07-12T11:01:39.724317Z"
    },
    "papermill": {
     "duration": 0.291846,
     "end_time": "2021-07-12T11:03:39.360546",
     "exception": false,
     "start_time": "2021-07-12T11:03:39.068700",
     "status": "completed"
    },
    "tags": []
   },
   "outputs": [
    {
     "data": {
      "image/png": "[encoded data removed]",
      "text/plain": [
       "<Figure size 180x180 with 2 Axes>"
      ]
     },
     "metadata": {
      "needs_background": "light"
     },
     "output_type": "display_data"
    }
   ],
   "source": [
    "ax = sns.pairplot(diabets_df, diag_kind ='kde')"
   ]
  },
  {
   "cell_type": "markdown",
   "metadata": {
    "papermill": {
     "duration": 0.019888,
     "end_time": "2021-07-12T11:03:39.400812",
     "exception": false,
     "start_time": "2021-07-12T11:03:39.380924",
     "status": "completed"
    },
    "tags": []
   },
   "source": [
    "# Changing the dataset"
   ]
  },
  {
   "cell_type": "code",
   "execution_count": 6,
   "metadata": {
    "execution": {
     "iopub.execute_input": "2021-07-12T11:03:39.450194Z",
     "iopub.status.busy": "2021-07-12T11:03:39.449198Z",
     "iopub.status.idle": "2021-07-12T11:03:39.462299Z",
     "shell.execute_reply": "2021-07-12T11:03:39.462785Z",
     "shell.execute_reply.started": "2021-07-12T11:01:43.697927Z"
    },
    "papermill": {
     "duration": 0.041783,
     "end_time": "2021-07-12T11:03:39.462961",
     "exception": false,
     "start_time": "2021-07-12T11:03:39.421178",
     "status": "completed"
    },
    "tags": []
   },
   "outputs": [],
   "source": [
    "diabets_df = diabets_df.replace([\"Yes\", \"Male\", \"Positive\"], 1.0)\n",
    "diabets_df = diabets_df.replace([\"No\", \"Female\", \"Negative\"], 0.0)"
   ]
  },
  {
   "cell_type": "code",
   "execution_count": 7,
   "metadata": {
    "execution": {
     "iopub.execute_input": "2021-07-12T11:03:39.509092Z",
     "iopub.status.busy": "2021-07-12T11:03:39.508430Z",
     "iopub.status.idle": "2021-07-12T11:03:39.511711Z",
     "shell.execute_reply": "2021-07-12T11:03:39.511069Z",
     "shell.execute_reply.started": "2021-07-12T11:01:44.879835Z"
    },
    "papermill": {
     "duration": 0.028454,
     "end_time": "2021-07-12T11:03:39.511849",
     "exception": false,
     "start_time": "2021-07-12T11:03:39.483395",
     "status": "completed"
    },
    "tags": []
   },
   "outputs": [],
   "source": [
    "diabets_df = diabets_df.astype('float64')"
   ]
  },
  {
   "cell_type": "code",
   "execution_count": 8,
   "metadata": {
    "execution": {
     "iopub.execute_input": "2021-07-12T11:03:39.557224Z",
     "iopub.status.busy": "2021-07-12T11:03:39.556278Z",
     "iopub.status.idle": "2021-07-12T11:03:39.597313Z",
     "shell.execute_reply": "2021-07-12T11:03:39.596794Z",
     "shell.execute_reply.started": "2021-07-12T11:01:45.979489Z"
    },
    "papermill": {
     "duration": 0.064381,
     "end_time": "2021-07-12T11:03:39.597455",
     "exception": false,
     "start_time": "2021-07-12T11:03:39.533074",
     "status": "completed"
    },
    "tags": []
   },
   "outputs": [
    {
     "data": {
      "text/html": [
       "<div>\n",
       "<style scoped>\n",
       "    .dataframe tbody tr th:only-of-type {\n",
       "        vertical-align: middle;\n",
       "    }\n",
       "\n",
       "    .dataframe tbody tr th {\n",
       "        vertical-align: top;\n",
       "    }\n",
       "\n",
       "    .dataframe thead th {\n",
       "        text-align: right;\n",
       "    }\n",
       "</style>\n",
       "<table border=\"1\" class=\"dataframe\">\n",
       "  <thead>\n",
       "    <tr style=\"text-align: right;\">\n",
       "      <th></th>\n",
       "      <th>Age</th>\n",
       "      <th>Gender</th>\n",
       "      <th>Polyuria</th>\n",
       "      <th>Polydipsia</th>\n",
       "      <th>sudden weight loss</th>\n",
       "      <th>weakness</th>\n",
       "      <th>Polyphagia</th>\n",
       "      <th>Genital thrush</th>\n",
       "      <th>visual blurring</th>\n",
       "      <th>Itching</th>\n",
       "      <th>Irritability</th>\n",
       "      <th>delayed healing</th>\n",
       "      <th>partial paresis</th>\n",
       "      <th>muscle stiffness</th>\n",
       "      <th>Alopecia</th>\n",
       "      <th>Obesity</th>\n",
       "      <th>class</th>\n",
       "    </tr>\n",
       "  </thead>\n",
       "  <tbody>\n",
       "    <tr>\n",
       "      <th>0</th>\n",
       "      <td>40.0</td>\n",
       "      <td>1.0</td>\n",
       "      <td>0.0</td>\n",
       "      <td>1.0</td>\n",
       "      <td>0.0</td>\n",
       "      <td>1.0</td>\n",
       "      <td>0.0</td>\n",
       "      <td>0.0</td>\n",
       "      <td>0.0</td>\n",
       "      <td>1.0</td>\n",
       "      <td>0.0</td>\n",
       "      <td>1.0</td>\n",
       "      <td>0.0</td>\n",
       "      <td>1.0</td>\n",
       "      <td>1.0</td>\n",
       "      <td>1.0</td>\n",
       "      <td>1.0</td>\n",
       "    </tr>\n",
       "    <tr>\n",
       "      <th>1</th>\n",
       "      <td>58.0</td>\n",
       "      <td>1.0</td>\n",
       "      <td>0.0</td>\n",
       "      <td>0.0</td>\n",
       "      <td>0.0</td>\n",
       "      <td>1.0</td>\n",
       "      <td>0.0</td>\n",
       "      <td>0.0</td>\n",
       "      <td>1.0</td>\n",
       "      <td>0.0</td>\n",
       "      <td>0.0</td>\n",
       "      <td>0.0</td>\n",
       "      <td>1.0</td>\n",
       "      <td>0.0</td>\n",
       "      <td>1.0</td>\n",
       "      <td>0.0</td>\n",
       "      <td>1.0</td>\n",
       "    </tr>\n",
       "    <tr>\n",
       "      <th>2</th>\n",
       "      <td>41.0</td>\n",
       "      <td>1.0</td>\n",
       "      <td>1.0</td>\n",
       "      <td>0.0</td>\n",
       "      <td>0.0</td>\n",
       "      <td>1.0</td>\n",
       "      <td>1.0</td>\n",
       "      <td>0.0</td>\n",
       "      <td>0.0</td>\n",
       "      <td>1.0</td>\n",
       "      <td>0.0</td>\n",
       "      <td>1.0</td>\n",
       "      <td>0.0</td>\n",
       "      <td>1.0</td>\n",
       "      <td>1.0</td>\n",
       "      <td>0.0</td>\n",
       "      <td>1.0</td>\n",
       "    </tr>\n",
       "    <tr>\n",
       "      <th>3</th>\n",
       "      <td>45.0</td>\n",
       "      <td>1.0</td>\n",
       "      <td>0.0</td>\n",
       "      <td>0.0</td>\n",
       "      <td>1.0</td>\n",
       "      <td>1.0</td>\n",
       "      <td>1.0</td>\n",
       "      <td>1.0</td>\n",
       "      <td>0.0</td>\n",
       "      <td>1.0</td>\n",
       "      <td>0.0</td>\n",
       "      <td>1.0</td>\n",
       "      <td>0.0</td>\n",
       "      <td>0.0</td>\n",
       "      <td>0.0</td>\n",
       "      <td>0.0</td>\n",
       "      <td>1.0</td>\n",
       "    </tr>\n",
       "    <tr>\n",
       "      <th>4</th>\n",
       "      <td>60.0</td>\n",
       "      <td>1.0</td>\n",
       "      <td>1.0</td>\n",
       "      <td>1.0</td>\n",
       "      <td>1.0</td>\n",
       "      <td>1.0</td>\n",
       "      <td>1.0</td>\n",
       "      <td>0.0</td>\n",
       "      <td>1.0</td>\n",
       "      <td>1.0</td>\n",
       "      <td>1.0</td>\n",
       "      <td>1.0</td>\n",
       "      <td>1.0</td>\n",
       "      <td>1.0</td>\n",
       "      <td>1.0</td>\n",
       "      <td>1.0</td>\n",
       "      <td>1.0</td>\n",
       "    </tr>\n",
       "    <tr>\n",
       "      <th>...</th>\n",
       "      <td>...</td>\n",
       "      <td>...</td>\n",
       "      <td>...</td>\n",
       "      <td>...</td>\n",
       "      <td>...</td>\n",
       "      <td>...</td>\n",
       "      <td>...</td>\n",
       "      <td>...</td>\n",
       "      <td>...</td>\n",
       "      <td>...</td>\n",
       "      <td>...</td>\n",
       "      <td>...</td>\n",
       "      <td>...</td>\n",
       "      <td>...</td>\n",
       "      <td>...</td>\n",
       "      <td>...</td>\n",
       "      <td>...</td>\n",
       "    </tr>\n",
       "    <tr>\n",
       "      <th>355</th>\n",
       "      <td>54.0</td>\n",
       "      <td>1.0</td>\n",
       "      <td>0.0</td>\n",
       "      <td>0.0</td>\n",
       "      <td>1.0</td>\n",
       "      <td>1.0</td>\n",
       "      <td>0.0</td>\n",
       "      <td>1.0</td>\n",
       "      <td>0.0</td>\n",
       "      <td>0.0</td>\n",
       "      <td>0.0</td>\n",
       "      <td>1.0</td>\n",
       "      <td>0.0</td>\n",
       "      <td>0.0</td>\n",
       "      <td>1.0</td>\n",
       "      <td>0.0</td>\n",
       "      <td>0.0</td>\n",
       "    </tr>\n",
       "    <tr>\n",
       "      <th>356</th>\n",
       "      <td>43.0</td>\n",
       "      <td>1.0</td>\n",
       "      <td>0.0</td>\n",
       "      <td>0.0</td>\n",
       "      <td>1.0</td>\n",
       "      <td>0.0</td>\n",
       "      <td>0.0</td>\n",
       "      <td>1.0</td>\n",
       "      <td>0.0</td>\n",
       "      <td>0.0</td>\n",
       "      <td>0.0</td>\n",
       "      <td>1.0</td>\n",
       "      <td>0.0</td>\n",
       "      <td>0.0</td>\n",
       "      <td>1.0</td>\n",
       "      <td>0.0</td>\n",
       "      <td>0.0</td>\n",
       "    </tr>\n",
       "    <tr>\n",
       "      <th>357</th>\n",
       "      <td>33.0</td>\n",
       "      <td>0.0</td>\n",
       "      <td>0.0</td>\n",
       "      <td>0.0</td>\n",
       "      <td>0.0</td>\n",
       "      <td>0.0</td>\n",
       "      <td>0.0</td>\n",
       "      <td>0.0</td>\n",
       "      <td>0.0</td>\n",
       "      <td>0.0</td>\n",
       "      <td>0.0</td>\n",
       "      <td>0.0</td>\n",
       "      <td>0.0</td>\n",
       "      <td>0.0</td>\n",
       "      <td>0.0</td>\n",
       "      <td>0.0</td>\n",
       "      <td>0.0</td>\n",
       "    </tr>\n",
       "    <tr>\n",
       "      <th>358</th>\n",
       "      <td>55.0</td>\n",
       "      <td>1.0</td>\n",
       "      <td>1.0</td>\n",
       "      <td>1.0</td>\n",
       "      <td>1.0</td>\n",
       "      <td>1.0</td>\n",
       "      <td>0.0</td>\n",
       "      <td>1.0</td>\n",
       "      <td>0.0</td>\n",
       "      <td>0.0</td>\n",
       "      <td>1.0</td>\n",
       "      <td>0.0</td>\n",
       "      <td>1.0</td>\n",
       "      <td>0.0</td>\n",
       "      <td>0.0</td>\n",
       "      <td>0.0</td>\n",
       "      <td>1.0</td>\n",
       "    </tr>\n",
       "    <tr>\n",
       "      <th>359</th>\n",
       "      <td>48.0</td>\n",
       "      <td>1.0</td>\n",
       "      <td>1.0</td>\n",
       "      <td>1.0</td>\n",
       "      <td>1.0</td>\n",
       "      <td>0.0</td>\n",
       "      <td>1.0</td>\n",
       "      <td>1.0</td>\n",
       "      <td>0.0</td>\n",
       "      <td>0.0</td>\n",
       "      <td>0.0</td>\n",
       "      <td>1.0</td>\n",
       "      <td>0.0</td>\n",
       "      <td>0.0</td>\n",
       "      <td>0.0</td>\n",
       "      <td>0.0</td>\n",
       "      <td>1.0</td>\n",
       "    </tr>\n",
       "  </tbody>\n",
       "</table>\n",
       "<p>360 rows × 17 columns</p>\n",
       "</div>"
      ],
      "text/plain": [
       "      Age  Gender  Polyuria  Polydipsia  sudden weight loss  weakness  \\\n",
       "0    40.0     1.0       0.0         1.0                 0.0       1.0   \n",
       "1    58.0     1.0       0.0         0.0                 0.0       1.0   \n",
       "2    41.0     1.0       1.0         0.0                 0.0       1.0   \n",
       "3    45.0     1.0       0.0         0.0                 1.0       1.0   \n",
       "4    60.0     1.0       1.0         1.0                 1.0       1.0   \n",
       "..    ...     ...       ...         ...                 ...       ...   \n",
       "355  54.0     1.0       0.0         0.0                 1.0       1.0   \n",
       "356  43.0     1.0       0.0         0.0                 1.0       0.0   \n",
       "357  33.0     0.0       0.0         0.0                 0.0       0.0   \n",
       "358  55.0     1.0       1.0         1.0                 1.0       1.0   \n",
       "359  48.0     1.0       1.0         1.0                 1.0       0.0   \n",
       "\n",
       "     Polyphagia  Genital thrush  visual blurring  Itching  Irritability  \\\n",
       "0           0.0             0.0              0.0      1.0           0.0   \n",
       "1           0.0             0.0              1.0      0.0           0.0   \n",
       "2           1.0             0.0              0.0      1.0           0.0   \n",
       "3           1.0             1.0              0.0      1.0           0.0   \n",
       "4           1.0             0.0              1.0      1.0           1.0   \n",
       "..          ...             ...              ...      ...           ...   \n",
       "355         0.0             1.0              0.0      0.0           0.0   \n",
       "356         0.0             1.0              0.0      0.0           0.0   \n",
       "357         0.0             0.0              0.0      0.0           0.0   \n",
       "358         0.0             1.0              0.0      0.0           1.0   \n",
       "359         1.0             1.0              0.0      0.0           0.0   \n",
       "\n",
       "     delayed healing  partial paresis  muscle stiffness  Alopecia  Obesity  \\\n",
       "0                1.0              0.0               1.0       1.0      1.0   \n",
       "1                0.0              1.0               0.0       1.0      0.0   \n",
       "2                1.0              0.0               1.0       1.0      0.0   \n",
       "3                1.0              0.0               0.0       0.0      0.0   \n",
       "4                1.0              1.0               1.0       1.0      1.0   \n",
       "..               ...              ...               ...       ...      ...   \n",
       "355              1.0              0.0               0.0       1.0      0.0   \n",
       "356              1.0              0.0               0.0       1.0      0.0   \n",
       "357              0.0              0.0               0.0       0.0      0.0   \n",
       "358              0.0              1.0               0.0       0.0      0.0   \n",
       "359              1.0              0.0               0.0       0.0      0.0   \n",
       "\n",
       "     class  \n",
       "0      1.0  \n",
       "1      1.0  \n",
       "2      1.0  \n",
       "3      1.0  \n",
       "4      1.0  \n",
       "..     ...  \n",
       "355    0.0  \n",
       "356    0.0  \n",
       "357    0.0  \n",
       "358    1.0  \n",
       "359    1.0  \n",
       "\n",
       "[360 rows x 17 columns]"
      ]
     },
     "execution_count": 8,
     "metadata": {},
     "output_type": "execute_result"
    }
   ],
   "source": [
    "diabets_df[:360]"
   ]
  },
  {
   "cell_type": "markdown",
   "metadata": {
    "papermill": {
     "duration": 0.020745,
     "end_time": "2021-07-12T11:03:39.639310",
     "exception": false,
     "start_time": "2021-07-12T11:03:39.618565",
     "status": "completed"
    },
    "tags": []
   },
   "source": [
    "# selecting a test sample"
   ]
  },
  {
   "cell_type": "code",
   "execution_count": 9,
   "metadata": {
    "execution": {
     "iopub.execute_input": "2021-07-12T11:03:39.689821Z",
     "iopub.status.busy": "2021-07-12T11:03:39.689167Z",
     "iopub.status.idle": "2021-07-12T11:03:39.692117Z",
     "shell.execute_reply": "2021-07-12T11:03:39.692605Z",
     "shell.execute_reply.started": "2021-07-12T11:02:12.439909Z"
    },
    "papermill": {
     "duration": 0.032091,
     "end_time": "2021-07-12T11:03:39.692783",
     "exception": false,
     "start_time": "2021-07-12T11:03:39.660692",
     "status": "completed"
    },
    "tags": []
   },
   "outputs": [
    {
     "data": {
      "text/plain": [
       "array([[40.,  1.,  0., ...,  1.,  1.,  1.],\n",
       "       [58.,  1.,  0., ...,  0.,  1.,  0.],\n",
       "       [41.,  1.,  1., ...,  1.,  1.,  0.],\n",
       "       ...,\n",
       "       [33.,  0.,  0., ...,  0.,  0.,  0.],\n",
       "       [55.,  1.,  1., ...,  0.,  0.,  0.],\n",
       "       [48.,  1.,  1., ...,  0.,  0.,  0.]])"
      ]
     },
     "execution_count": 9,
     "metadata": {},
     "output_type": "execute_result"
    }
   ],
   "source": [
    "train_x = diabets_df[:360].T[:16].T.to_numpy()\n",
    "train_x"
   ]
  },
  {
   "cell_type": "code",
   "execution_count": 10,
   "metadata": {
    "execution": {
     "iopub.execute_input": "2021-07-12T11:03:39.738715Z",
     "iopub.status.busy": "2021-07-12T11:03:39.738114Z",
     "iopub.status.idle": "2021-07-12T11:03:39.746351Z",
     "shell.execute_reply": "2021-07-12T11:03:39.745856Z",
     "shell.execute_reply.started": "2021-07-12T11:02:25.022382Z"
    },
    "papermill": {
     "duration": 0.032225,
     "end_time": "2021-07-12T11:03:39.746486",
     "exception": false,
     "start_time": "2021-07-12T11:03:39.714261",
     "status": "completed"
    },
    "tags": []
   },
   "outputs": [
    {
     "data": {
      "text/plain": [
       "array([[1.],\n",
       "       [1.],\n",
       "       [1.],\n",
       "       [1.],\n",
       "       [1.]])"
      ]
     },
     "execution_count": 10,
     "metadata": {},
     "output_type": "execute_result"
    }
   ],
   "source": [
    "train_y = np.array(list(map(lambda x: [x], list(diabets_df[:360]['class']))))\n",
    "train_y[0:5]"
   ]
  },
  {
   "cell_type": "code",
   "execution_count": 11,
   "metadata": {
    "execution": {
     "iopub.execute_input": "2021-07-12T11:03:39.796396Z",
     "iopub.status.busy": "2021-07-12T11:03:39.795539Z",
     "iopub.status.idle": "2021-07-12T11:03:39.799692Z",
     "shell.execute_reply": "2021-07-12T11:03:39.799165Z",
     "shell.execute_reply.started": "2021-07-12T11:02:30.510745Z"
    },
    "papermill": {
     "duration": 0.031525,
     "end_time": "2021-07-12T11:03:39.799826",
     "exception": false,
     "start_time": "2021-07-12T11:03:39.768301",
     "status": "completed"
    },
    "tags": []
   },
   "outputs": [
    {
     "data": {
      "text/plain": [
       "array([[0., 1.],\n",
       "       [0., 1.],\n",
       "       [0., 1.],\n",
       "       [0., 1.],\n",
       "       [0., 1.]], dtype=float32)"
      ]
     },
     "execution_count": 11,
     "metadata": {},
     "output_type": "execute_result"
    }
   ],
   "source": [
    "train_y = tf.keras.utils.to_categorical(train_y, 0)\n",
    "train_y[0:5]"
   ]
  },
  {
   "cell_type": "markdown",
   "metadata": {
    "papermill": {
     "duration": 0.022657,
     "end_time": "2021-07-12T11:03:39.844886",
     "exception": false,
     "start_time": "2021-07-12T11:03:39.822229",
     "status": "completed"
    },
    "tags": []
   },
   "source": [
    "# Model"
   ]
  },
  {
   "cell_type": "code",
   "execution_count": 12,
   "metadata": {
    "execution": {
     "iopub.execute_input": "2021-07-12T11:03:39.892082Z",
     "iopub.status.busy": "2021-07-12T11:03:39.891418Z",
     "iopub.status.idle": "2021-07-12T11:03:39.947964Z",
     "shell.execute_reply": "2021-07-12T11:03:39.946663Z",
     "shell.execute_reply.started": "2021-07-12T11:02:34.102139Z"
    },
    "papermill": {
     "duration": 0.081171,
     "end_time": "2021-07-12T11:03:39.948114",
     "exception": false,
     "start_time": "2021-07-12T11:03:39.866943",
     "status": "completed"
    },
    "tags": []
   },
   "outputs": [],
   "source": [
    "model = tf.keras.Sequential([\n",
    "    tf.keras.layers.Dense(units = 16),\n",
    "    tf.keras.layers.Dense(units = 2, activation = 'softmax')\n",
    "])\n",
    "model.compile(optimizer='adam',\n",
    "    loss = 'categorical_crossentropy',\n",
    "    metrics = ['acc'])\n"
   ]
  },
  {
   "cell_type": "code",
   "execution_count": 13,
   "metadata": {
    "execution": {
     "iopub.execute_input": "2021-07-12T11:03:39.996970Z",
     "iopub.status.busy": "2021-07-12T11:03:39.996313Z",
     "iopub.status.idle": "2021-07-12T11:03:42.380454Z",
     "shell.execute_reply": "2021-07-12T11:03:42.379486Z",
     "shell.execute_reply.started": "2021-07-12T11:02:36.160457Z"
    },
    "papermill": {
     "duration": 2.410196,
     "end_time": "2021-07-12T11:03:42.380603",
     "exception": false,
     "start_time": "2021-07-12T11:03:39.970407",
     "status": "completed"
    },
    "tags": []
   },
   "outputs": [
    {
     "name": "stdout",
     "output_type": "stream",
     "text": [
      "Epoch 1/100\n",
      "12/12 [==============================] - 0s 1ms/step - loss: 11.8956 - acc: 0.6806\n",
      "Epoch 2/100\n",
      "12/12 [==============================] - 0s 1ms/step - loss: 9.3514 - acc: 0.6806\n",
      "Epoch 3/100\n",
      "12/12 [==============================] - 0s 1ms/step - loss: 6.9965 - acc: 0.6806\n",
      "Epoch 4/100\n",
      "12/12 [==============================] - 0s 1ms/step - loss: 4.4922 - acc: 0.6806\n",
      "Epoch 5/100\n",
      "12/12 [==============================] - 0s 2ms/step - loss: 2.1253 - acc: 0.6611\n",
      "Epoch 6/100\n",
      "12/12 [==============================] - 0s 1ms/step - loss: 1.2117 - acc: 0.3972\n",
      "Epoch 7/100\n",
      "12/12 [==============================] - 0s 2ms/step - loss: 1.0137 - acc: 0.4694\n",
      "Epoch 8/100\n",
      "12/12 [==============================] - 0s 2ms/step - loss: 0.9127 - acc: 0.5500\n",
      "Epoch 9/100\n",
      "12/12 [==============================] - 0s 1ms/step - loss: 0.8053 - acc: 0.5083\n",
      "Epoch 10/100\n",
      "12/12 [==============================] - 0s 1ms/step - loss: 0.7291 - acc: 0.5861\n",
      "Epoch 11/100\n",
      "12/12 [==============================] - 0s 1ms/step - loss: 0.6631 - acc: 0.6222\n",
      "Epoch 12/100\n",
      "12/12 [==============================] - 0s 1ms/step - loss: 0.6067 - acc: 0.6583\n",
      "Epoch 13/100\n",
      "12/12 [==============================] - 0s 1ms/step - loss: 0.5637 - acc: 0.6833\n",
      "Epoch 14/100\n",
      "12/12 [==============================] - 0s 1ms/step - loss: 0.5232 - acc: 0.7333\n",
      "Epoch 15/100\n",
      "12/12 [==============================] - 0s 1ms/step - loss: 0.4989 - acc: 0.7000\n",
      "Epoch 16/100\n",
      "12/12 [==============================] - 0s 1ms/step - loss: 0.4536 - acc: 0.7917\n",
      "Epoch 17/100\n",
      "12/12 [==============================] - 0s 1ms/step - loss: 0.4388 - acc: 0.7944\n",
      "Epoch 18/100\n",
      "12/12 [==============================] - 0s 1ms/step - loss: 0.4167 - acc: 0.8278\n",
      "Epoch 19/100\n",
      "12/12 [==============================] - 0s 1ms/step - loss: 0.4001 - acc: 0.8111\n",
      "Epoch 20/100\n",
      "12/12 [==============================] - 0s 1ms/step - loss: 0.3818 - acc: 0.8583\n",
      "Epoch 21/100\n",
      "12/12 [==============================] - 0s 1ms/step - loss: 0.3654 - acc: 0.8639\n",
      "Epoch 22/100\n",
      "12/12 [==============================] - 0s 1ms/step - loss: 0.3534 - acc: 0.8611\n",
      "Epoch 23/100\n",
      "12/12 [==============================] - ETA: 0s - loss: 0.3014 - acc: 0.937 - 0s 2ms/step - loss: 0.3458 - acc: 0.8639\n",
      "Epoch 24/100\n",
      "12/12 [==============================] - 0s 1ms/step - loss: 0.3358 - acc: 0.8750\n",
      "Epoch 25/100\n",
      "12/12 [==============================] - 0s 2ms/step - loss: 0.3271 - acc: 0.8667\n",
      "Epoch 26/100\n",
      "12/12 [==============================] - 0s 2ms/step - loss: 0.3181 - acc: 0.8722\n",
      "Epoch 27/100\n",
      "12/12 [==============================] - 0s 1ms/step - loss: 0.3131 - acc: 0.8722\n",
      "Epoch 28/100\n",
      "12/12 [==============================] - 0s 1ms/step - loss: 0.3047 - acc: 0.8778\n",
      "Epoch 29/100\n",
      "12/12 [==============================] - 0s 2ms/step - loss: 0.2999 - acc: 0.8778\n",
      "Epoch 30/100\n",
      "12/12 [==============================] - 0s 1ms/step - loss: 0.2973 - acc: 0.8806\n",
      "Epoch 31/100\n",
      "12/12 [==============================] - 0s 1ms/step - loss: 0.2897 - acc: 0.8778\n",
      "Epoch 32/100\n",
      "12/12 [==============================] - 0s 1ms/step - loss: 0.2899 - acc: 0.8944\n",
      "Epoch 33/100\n",
      "12/12 [==============================] - 0s 2ms/step - loss: 0.2833 - acc: 0.8889\n",
      "Epoch 34/100\n",
      "12/12 [==============================] - 0s 2ms/step - loss: 0.2777 - acc: 0.9000\n",
      "Epoch 35/100\n",
      "12/12 [==============================] - 0s 1ms/step - loss: 0.2776 - acc: 0.8944\n",
      "Epoch 36/100\n",
      "12/12 [==============================] - 0s 2ms/step - loss: 0.2725 - acc: 0.8917\n",
      "Epoch 37/100\n",
      "12/12 [==============================] - 0s 2ms/step - loss: 0.2724 - acc: 0.8944\n",
      "Epoch 38/100\n",
      "12/12 [==============================] - 0s 1ms/step - loss: 0.2647 - acc: 0.8972\n",
      "Epoch 39/100\n",
      "12/12 [==============================] - 0s 2ms/step - loss: 0.2624 - acc: 0.8944\n",
      "Epoch 40/100\n",
      "12/12 [==============================] - 0s 1ms/step - loss: 0.2632 - acc: 0.8972\n",
      "Epoch 41/100\n",
      "12/12 [==============================] - 0s 2ms/step - loss: 0.2608 - acc: 0.8917\n",
      "Epoch 42/100\n",
      "12/12 [==============================] - 0s 1ms/step - loss: 0.2631 - acc: 0.8917\n",
      "Epoch 43/100\n",
      "12/12 [==============================] - 0s 1ms/step - loss: 0.2535 - acc: 0.9056\n",
      "Epoch 44/100\n",
      "12/12 [==============================] - 0s 1ms/step - loss: 0.2527 - acc: 0.8944\n",
      "Epoch 45/100\n",
      "12/12 [==============================] - 0s 2ms/step - loss: 0.2612 - acc: 0.8944\n",
      "Epoch 46/100\n",
      "12/12 [==============================] - 0s 2ms/step - loss: 0.2497 - acc: 0.8972\n",
      "Epoch 47/100\n",
      "12/12 [==============================] - 0s 2ms/step - loss: 0.2455 - acc: 0.9000\n",
      "Epoch 48/100\n",
      "12/12 [==============================] - 0s 1ms/step - loss: 0.2452 - acc: 0.8972\n",
      "Epoch 49/100\n",
      "12/12 [==============================] - 0s 2ms/step - loss: 0.2431 - acc: 0.9000\n",
      "Epoch 50/100\n",
      "12/12 [==============================] - 0s 1ms/step - loss: 0.2468 - acc: 0.8972\n",
      "Epoch 51/100\n",
      "12/12 [==============================] - 0s 1ms/step - loss: 0.2392 - acc: 0.8972\n",
      "Epoch 52/100\n",
      "12/12 [==============================] - 0s 2ms/step - loss: 0.2489 - acc: 0.8972\n",
      "Epoch 53/100\n",
      "12/12 [==============================] - 0s 1ms/step - loss: 0.2381 - acc: 0.8972\n",
      "Epoch 54/100\n",
      "12/12 [==============================] - 0s 1ms/step - loss: 0.2407 - acc: 0.9028\n",
      "Epoch 55/100\n",
      "12/12 [==============================] - 0s 1ms/step - loss: 0.2384 - acc: 0.8972\n",
      "Epoch 56/100\n",
      "12/12 [==============================] - 0s 2ms/step - loss: 0.2358 - acc: 0.8972\n",
      "Epoch 57/100\n",
      "12/12 [==============================] - 0s 2ms/step - loss: 0.2361 - acc: 0.9000\n",
      "Epoch 58/100\n",
      "12/12 [==============================] - 0s 1ms/step - loss: 0.2346 - acc: 0.9167\n",
      "Epoch 59/100\n",
      "12/12 [==============================] - 0s 1ms/step - loss: 0.2376 - acc: 0.8972\n",
      "Epoch 60/100\n",
      "12/12 [==============================] - 0s 1ms/step - loss: 0.2306 - acc: 0.9056\n",
      "Epoch 61/100\n",
      "12/12 [==============================] - 0s 2ms/step - loss: 0.2329 - acc: 0.9000\n",
      "Epoch 62/100\n",
      "12/12 [==============================] - 0s 1ms/step - loss: 0.2318 - acc: 0.9028\n",
      "Epoch 63/100\n",
      "12/12 [==============================] - ETA: 0s - loss: 0.2847 - acc: 0.843 - 0s 1ms/step - loss: 0.2274 - acc: 0.9056\n",
      "Epoch 64/100\n",
      "12/12 [==============================] - 0s 1ms/step - loss: 0.2277 - acc: 0.9139\n",
      "Epoch 65/100\n",
      "12/12 [==============================] - 0s 1ms/step - loss: 0.2364 - acc: 0.9139\n",
      "Epoch 66/100\n",
      "12/12 [==============================] - 0s 1ms/step - loss: 0.2248 - acc: 0.9083\n",
      "Epoch 67/100\n",
      "12/12 [==============================] - 0s 1ms/step - loss: 0.2258 - acc: 0.9028\n",
      "Epoch 68/100\n",
      "12/12 [==============================] - 0s 1ms/step - loss: 0.2221 - acc: 0.9083\n",
      "Epoch 69/100\n",
      "12/12 [==============================] - 0s 1ms/step - loss: 0.2253 - acc: 0.9000\n",
      "Epoch 70/100\n",
      "12/12 [==============================] - 0s 1ms/step - loss: 0.2256 - acc: 0.9028\n",
      "Epoch 71/100\n",
      "12/12 [==============================] - 0s 1ms/step - loss: 0.2212 - acc: 0.9056\n",
      "Epoch 72/100\n",
      "12/12 [==============================] - 0s 1ms/step - loss: 0.2186 - acc: 0.9083\n",
      "Epoch 73/100\n",
      "12/12 [==============================] - 0s 1ms/step - loss: 0.2239 - acc: 0.9111\n",
      "Epoch 74/100\n",
      "12/12 [==============================] - 0s 1ms/step - loss: 0.2207 - acc: 0.9083\n",
      "Epoch 75/100\n",
      "12/12 [==============================] - 0s 1ms/step - loss: 0.2296 - acc: 0.8944\n",
      "Epoch 76/100\n",
      "12/12 [==============================] - 0s 1ms/step - loss: 0.2216 - acc: 0.9083\n",
      "Epoch 77/100\n",
      "12/12 [==============================] - 0s 1ms/step - loss: 0.2210 - acc: 0.9056\n",
      "Epoch 78/100\n",
      "12/12 [==============================] - 0s 1ms/step - loss: 0.2205 - acc: 0.9111\n",
      "Epoch 79/100\n",
      "12/12 [==============================] - 0s 1ms/step - loss: 0.2130 - acc: 0.9028\n",
      "Epoch 80/100\n",
      "12/12 [==============================] - 0s 1ms/step - loss: 0.2138 - acc: 0.9028\n",
      "Epoch 81/100\n",
      "12/12 [==============================] - 0s 1ms/step - loss: 0.2159 - acc: 0.9111\n",
      "Epoch 82/100\n",
      "12/12 [==============================] - 0s 1ms/step - loss: 0.2156 - acc: 0.9056\n",
      "Epoch 83/100\n",
      "12/12 [==============================] - 0s 1ms/step - loss: 0.2134 - acc: 0.9028\n",
      "Epoch 84/100\n",
      "12/12 [==============================] - 0s 1ms/step - loss: 0.2154 - acc: 0.9028\n",
      "Epoch 85/100\n",
      "12/12 [==============================] - 0s 1ms/step - loss: 0.2141 - acc: 0.9028\n",
      "Epoch 86/100\n"
     ]
    },
    {
     "name": "stdout",
     "output_type": "stream",
     "text": [
      "12/12 [==============================] - 0s 1ms/step - loss: 0.2107 - acc: 0.9056\n",
      "Epoch 87/100\n",
      "12/12 [==============================] - 0s 1ms/step - loss: 0.2114 - acc: 0.9111\n",
      "Epoch 88/100\n",
      "12/12 [==============================] - 0s 1ms/step - loss: 0.2130 - acc: 0.9083\n",
      "Epoch 89/100\n",
      "12/12 [==============================] - 0s 1ms/step - loss: 0.2104 - acc: 0.9056\n",
      "Epoch 90/100\n",
      "12/12 [==============================] - 0s 1ms/step - loss: 0.2106 - acc: 0.9139\n",
      "Epoch 91/100\n",
      "12/12 [==============================] - 0s 1ms/step - loss: 0.2117 - acc: 0.9083\n",
      "Epoch 92/100\n",
      "12/12 [==============================] - 0s 1ms/step - loss: 0.2118 - acc: 0.9111\n",
      "Epoch 93/100\n",
      "12/12 [==============================] - 0s 1ms/step - loss: 0.2084 - acc: 0.9028\n",
      "Epoch 94/100\n",
      "12/12 [==============================] - 0s 1ms/step - loss: 0.2077 - acc: 0.9111\n",
      "Epoch 95/100\n",
      "12/12 [==============================] - 0s 1ms/step - loss: 0.2075 - acc: 0.9083\n",
      "Epoch 96/100\n",
      "12/12 [==============================] - 0s 1ms/step - loss: 0.2085 - acc: 0.9083\n",
      "Epoch 97/100\n",
      "12/12 [==============================] - 0s 1ms/step - loss: 0.2092 - acc: 0.9139\n",
      "Epoch 98/100\n",
      "12/12 [==============================] - 0s 1ms/step - loss: 0.2103 - acc: 0.9028\n",
      "Epoch 99/100\n",
      "12/12 [==============================] - 0s 1ms/step - loss: 0.2294 - acc: 0.9056\n",
      "Epoch 100/100\n",
      "12/12 [==============================] - 0s 1ms/step - loss: 0.2056 - acc: 0.9056\n"
     ]
    },
    {
     "data": {
      "text/plain": [
       "<keras.callbacks.History at 0x18d1db955b0>"
      ]
     },
     "execution_count": 13,
     "metadata": {},
     "output_type": "execute_result"
    }
   ],
   "source": [
    "model.fit(train_x, train_y, epochs = 100)"
   ]
  },
  {
   "cell_type": "markdown",
   "metadata": {
    "papermill": {
     "duration": 0.089389,
     "end_time": "2021-07-12T11:03:42.559698",
     "exception": false,
     "start_time": "2021-07-12T11:03:42.470309",
     "status": "completed"
    },
    "tags": []
   },
   "source": [
    "# Test"
   ]
  },
  {
   "cell_type": "code",
   "execution_count": 14,
   "metadata": {
    "execution": {
     "iopub.execute_input": "2021-07-12T11:03:42.742739Z",
     "iopub.status.busy": "2021-07-12T11:03:42.742079Z",
     "iopub.status.idle": "2021-07-12T11:03:42.746466Z",
     "shell.execute_reply": "2021-07-12T11:03:42.745981Z",
     "shell.execute_reply.started": "2021-07-12T11:02:49.776871Z"
    },
    "papermill": {
     "duration": 0.099862,
     "end_time": "2021-07-12T11:03:42.746600",
     "exception": false,
     "start_time": "2021-07-12T11:03:42.646738",
     "status": "completed"
    },
    "tags": []
   },
   "outputs": [
    {
     "data": {
      "text/plain": [
       "array([[56.,  1.,  1.,  0.,  1.,  1.,  0.,  1.,  0.,  1.,  1.,  0.,  0.,\n",
       "         0.,  1.,  0.],\n",
       "       [38.,  0.,  1.,  1.,  1.,  1.,  1.,  0.,  1.,  1.,  1.,  1.,  1.,\n",
       "         1.,  0.,  0.],\n",
       "       [28.,  0.,  0.,  0.,  0.,  0.,  0.,  0.,  1.,  0.,  0.,  0.,  1.,\n",
       "         1.,  0.,  0.],\n",
       "       [68.,  0.,  1.,  1.,  0.,  1.,  1.,  0.,  1.,  1.,  0.,  1.,  1.,\n",
       "         0.,  0.,  0.],\n",
       "       [35.,  0.,  0.,  0.,  0.,  0.,  0.,  0.,  0.,  0.,  0.,  0.,  0.,\n",
       "         0.,  0.,  0.]])"
      ]
     },
     "execution_count": 14,
     "metadata": {},
     "output_type": "execute_result"
    }
   ],
   "source": [
    "test_x = diabets_df[360:].T[:16].T.to_numpy()\n",
    "test_x[0:5]"
   ]
  },
  {
   "cell_type": "code",
   "execution_count": 15,
   "metadata": {
    "execution": {
     "iopub.execute_input": "2021-07-12T11:03:42.929496Z",
     "iopub.status.busy": "2021-07-12T11:03:42.928851Z",
     "iopub.status.idle": "2021-07-12T11:03:42.932328Z",
     "shell.execute_reply": "2021-07-12T11:03:42.931708Z",
     "shell.execute_reply.started": "2021-07-12T11:03:00.115852Z"
    },
    "papermill": {
     "duration": 0.098673,
     "end_time": "2021-07-12T11:03:42.932472",
     "exception": false,
     "start_time": "2021-07-12T11:03:42.833799",
     "status": "completed"
    },
    "tags": []
   },
   "outputs": [
    {
     "data": {
      "text/plain": [
       "array([[0., 1.],\n",
       "       [0., 1.],\n",
       "       [0., 1.],\n",
       "       [0., 1.],\n",
       "       [0., 1.]], dtype=float32)"
      ]
     },
     "execution_count": 15,
     "metadata": {},
     "output_type": "execute_result"
    }
   ],
   "source": [
    "test_y = tf.keras.utils.to_categorical(np.array(list(map(lambda x: [x], list(diabets_df[360:]['class'])))), 0)\n",
    "test_y[0:5]"
   ]
  },
  {
   "cell_type": "code",
   "execution_count": 16,
   "metadata": {
    "execution": {
     "iopub.execute_input": "2021-07-12T11:03:43.110768Z",
     "iopub.status.busy": "2021-07-12T11:03:43.110154Z",
     "iopub.status.idle": "2021-07-12T11:03:43.214901Z",
     "shell.execute_reply": "2021-07-12T11:03:43.214274Z",
     "shell.execute_reply.started": "2021-07-12T11:03:02.362404Z"
    },
    "papermill": {
     "duration": 0.194987,
     "end_time": "2021-07-12T11:03:43.215049",
     "exception": false,
     "start_time": "2021-07-12T11:03:43.020062",
     "status": "completed"
    },
    "tags": []
   },
   "outputs": [],
   "source": [
    "train_y_model = model.predict(test_x)"
   ]
  },
  {
   "cell_type": "markdown",
   "metadata": {
    "papermill": {
     "duration": 0.087235,
     "end_time": "2021-07-12T11:03:43.390213",
     "exception": false,
     "start_time": "2021-07-12T11:03:43.302978",
     "status": "completed"
    },
    "tags": []
   },
   "source": [
    "# Post-processing"
   ]
  },
  {
   "cell_type": "code",
   "execution_count": 17,
   "metadata": {
    "execution": {
     "iopub.execute_input": "2021-07-12T11:03:43.571984Z",
     "iopub.status.busy": "2021-07-12T11:03:43.571251Z",
     "iopub.status.idle": "2021-07-12T11:03:43.573168Z",
     "shell.execute_reply": "2021-07-12T11:03:43.573659Z",
     "shell.execute_reply.started": "2021-07-12T11:03:05.365662Z"
    },
    "papermill": {
     "duration": 0.096339,
     "end_time": "2021-07-12T11:03:43.573837",
     "exception": false,
     "start_time": "2021-07-12T11:03:43.477498",
     "status": "completed"
    },
    "tags": []
   },
   "outputs": [],
   "source": [
    "for i in range(len(train_y_model)):\n",
    "    if train_y_model[i][0] > 0.5:\n",
    "        train_y_model[i][0] = 1\n",
    "        train_y_model[i][1] = 0\n",
    "    else: \n",
    "        train_y_model[i][0] = 0\n",
    "        train_y_model[i][1] = 1\n",
    "    "
   ]
  },
  {
   "cell_type": "markdown",
   "metadata": {
    "papermill": {
     "duration": 0.087614,
     "end_time": "2021-07-12T11:03:43.749011",
     "exception": false,
     "start_time": "2021-07-12T11:03:43.661397",
     "status": "completed"
    },
    "tags": []
   },
   "source": [
    "# Accuracy\n"
   ]
  },
  {
   "cell_type": "code",
   "execution_count": 18,
   "metadata": {
    "execution": {
     "iopub.execute_input": "2021-07-12T11:03:43.937232Z",
     "iopub.status.busy": "2021-07-12T11:03:43.936567Z",
     "iopub.status.idle": "2021-07-12T11:03:43.943134Z",
     "shell.execute_reply": "2021-07-12T11:03:43.943729Z",
     "shell.execute_reply.started": "2021-07-12T11:03:08.212877Z"
    },
    "papermill": {
     "duration": 0.09909,
     "end_time": "2021-07-12T11:03:43.943904",
     "exception": false,
     "start_time": "2021-07-12T11:03:43.844814",
     "status": "completed"
    },
    "tags": []
   },
   "outputs": [
    {
     "name": "stdout",
     "output_type": "stream",
     "text": [
      "92.5%\n"
     ]
    }
   ],
   "source": [
    "k = 0\n",
    "for i in range(len(test_y)):\n",
    "    if train_y_model[i][0] == test_y[i][0] and train_y_model[i][1] == test_y[i][1]:\n",
    "        k += 1\n",
    "print('{}%'.format(100*(k/len(test_y))))"
   ]
  },
  {
   "cell_type": "code",
   "execution_count": null,
   "metadata": {
    "papermill": {
     "duration": 0.088304,
     "end_time": "2021-07-12T11:03:44.122282",
     "exception": false,
     "start_time": "2021-07-12T11:03:44.033978",
     "status": "completed"
    },
    "tags": []
   },
   "outputs": [],
   "source": []
  },
  {
   "cell_type": "code",
   "execution_count": null,
   "metadata": {},
   "outputs": [],
   "source": []
  }
 ],
 "metadata": {
  "kernelspec": {
   "display_name": "Python 3.10.5 ('venv': venv)",
   "language": "python",
   "name": "python3"
  },
  "language_info": {
   "codemirror_mode": {
    "name": "ipython",
    "version": 3
   },
   "file_extension": ".py",
   "mimetype": "text/x-python",
   "name": "python",
   "nbconvert_exporter": "python",
   "pygments_lexer": "ipython3",
   "version": "3.10.5"
  },
  "papermill": {
   "default_parameters": {},
   "duration": 20.825937,
   "end_time": "2021-07-12T11:03:45.867415",
   "environment_variables": {},
   "exception": null,
   "input_path": "__notebook__.ipynb",
   "output_path": "__notebook__.ipynb",
   "parameters": {},
   "start_time": "2021-07-12T11:03:25.041478",
   "version": "2.3.3"
  },
  "vscode": {
   "interpreter": {
    "hash": "8c959b7588cfd921c36a861fb0e5948b7c23a88cac869734173aa2e8fc3cc7eb"
   }
  }
 },
 "nbformat": 4,
 "nbformat_minor": 5
}
