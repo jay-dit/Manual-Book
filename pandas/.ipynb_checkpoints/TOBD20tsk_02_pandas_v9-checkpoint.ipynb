{
 "cells": [
  {
   "cell_type": "markdown",
   "metadata": {},
   "source": [
    "Задачи по Pandas\n",
    "\n",
    "V 0.8 14.09.2020\n",
    "\n",
    "Датасеты:\n",
    "* sp_data2.csv \n",
    "* sp500hst.txt \n",
    "* kings.csv \n",
    "* titanic.csv \n",
    "* e-commerce/*\n",
    "* avocado_v1\n",
    "* us-state-population\n",
    "* us-state-shortcode"
   ]
  },
  {
   "cell_type": "code",
   "execution_count": 2,
   "metadata": {
    "collapsed": true
   },
   "outputs": [],
   "source": [
    "import pandas as pd\n",
    "import numpy as np"
   ]
  },
  {
   "cell_type": "markdown",
   "metadata": {},
   "source": [
    "---"
   ]
  },
  {
   "cell_type": "markdown",
   "metadata": {},
   "source": [
    "## 1. Введение"
   ]
  },
  {
   "cell_type": "markdown",
   "metadata": {},
   "source": [
    "### Датасеты:\n",
    "* sp_data2.csv\n",
    "* sp500hst.txt"
   ]
  },
  {
   "cell_type": "markdown",
   "metadata": {},
   "source": [
    "1.1 Задание: загрузить данные из файлов (приложены к письму):\n",
    "* excel-comp-data.xlsx\n",
    "* sp500hst.txt "
   ]
  },
  {
   "cell_type": "markdown",
   "metadata": {},
   "source": [
    "1.2 Загрузить данные из файла sp500hst.txt, обозначить столбцы (в соответствии с содержимым).\n",
    "    * \"date\", \"ticker\", \"open\", \"high\", \"low\", \"close\", \"volume\""
   ]
  },
  {
   "cell_type": "markdown",
   "metadata": {},
   "source": [
    "1.3"
   ]
  },
  {
   "cell_type": "markdown",
   "metadata": {},
   "source": [
    "1.3.1 Создать столбец со значеними средними, между значением дневного минимума и максимума."
   ]
  },
  {
   "cell_type": "markdown",
   "metadata": {},
   "source": [
    "1.3.2 Рассчитать среднее значение показателей для каждого из столбцов 3-6."
   ]
  },
  {
   "cell_type": "markdown",
   "metadata": {},
   "source": [
    "1.4"
   ]
  },
  {
   "cell_type": "markdown",
   "metadata": {},
   "source": [
    "1.4.1 Создать DataFrame состоящий из строк относящихся только к 13 августа 2010 года. "
   ]
  },
  {
   "cell_type": "markdown",
   "metadata": {},
   "source": [
    "1.4.1.1 Из DataFrame, созданного в 1.4.1, cоздать серию из 30 первых имен "
   ]
  },
  {
   "cell_type": "markdown",
   "metadata": {},
   "source": [
    "1.4.2 Из DataFrame, созданного в 1.4.1, создать новый DataFrame, индексом в котором являются имена тикеров."
   ]
  },
  {
   "cell_type": "markdown",
   "metadata": {},
   "source": [
    "1.4.3 Создать DataFrame состоящий из строк относящихся только тикеру ALTR."
   ]
  },
  {
   "cell_type": "markdown",
   "metadata": {},
   "source": [
    "1.5"
   ]
  },
  {
   "cell_type": "markdown",
   "metadata": {},
   "source": [
    "1.5.1 Создать DataFrame состоящий из строк относящихся только тикеру WAT и объединить его с DataFrame для ALTR. "
   ]
  },
  {
   "cell_type": "markdown",
   "metadata": {},
   "source": [
    "1.5.2 Создать DataFrame в котором присутствует столбец, отражающий разницу в объемах торгов по WAT и ALTR в одинаковые дни и содержит исходные данны об объеме трогов этими акциями."
   ]
  },
  {
   "cell_type": "markdown",
   "metadata": {},
   "source": []
  },
  {
   "cell_type": "markdown",
   "metadata": {},
   "source": [
    "1.6 Выяввиь столбцы содержащие минимальные и максимальные значения (если такие столбцы есть). (Проверить, есть ли среди столбцов, столбец с минимальным значением курса акций.)"
   ]
  },
  {
   "cell_type": "markdown",
   "metadata": {},
   "source": [
    "1.7 По данным из 'sp500hst.txt' при помощи Pandas расчитать максимальные значения в 3-6 столбца для дат после 20100801"
   ]
  },
  {
   "cell_type": "markdown",
   "metadata": {},
   "source": [
    "1.8 По данным из 'sp500hst.txt' при помощи Pandas расчитать средний объем торгов (обеъм торгов - в последнем столбце) при значениях 3го столбца больше 50."
   ]
  },
  {
   "cell_type": "markdown",
   "metadata": {},
   "source": [
    "## 2.Даты\n",
    "\n",
    "* Группа функций pandas.Series.dt.<Имя функции>\n",
    "* Например, см.: https://pandas.pydata.org/pandas-docs/stable/reference/api/pandas.Series.dt.day.html"
   ]
  },
  {
   "cell_type": "markdown",
   "metadata": {},
   "source": [
    "### Датасеты:\n",
    "* sp_data2.csv\n",
    "* sp500hst.txt"
   ]
  },
  {
   "cell_type": "markdown",
   "metadata": {},
   "source": [
    "2.1 Из DataFrame, созданного в 1.4.3, создать DataFrame индексом в котором являются даты."
   ]
  },
  {
   "cell_type": "markdown",
   "metadata": {},
   "source": [
    "2.2 В DataFrame, созданном в 1.4.3, добавить столбец, содержащий только число месяца, к которому относится дата."
   ]
  },
  {
   "cell_type": "markdown",
   "metadata": {},
   "source": [
    "2.3 Из DataFrame выбрать только строки, относящиеся к 13 числу месяца."
   ]
  },
  {
   "cell_type": "markdown",
   "metadata": {},
   "source": [
    "2.4 Для тикера AAPL подсчитать, сколько дней прошло между максимальным и минимальным значением цены акции на закрытии рынка."
   ]
  },
  {
   "cell_type": "markdown",
   "metadata": {},
   "source": [
    "2.5 Для каждого тикера подсчитать, максимальную цену акции и определить, в какой день недели чаще всего достигается максимум цены акции."
   ]
  },
  {
   "cell_type": "markdown",
   "metadata": {},
   "source": []
  },
  {
   "cell_type": "markdown",
   "metadata": {},
   "source": [
    "## 3. Работа со строковыми значениями в Pandas\n",
    "\n",
    "* Группа функций pandas.Series.str.<Имя функции>\n",
    "* Например, см.: https://pandas.pydata.org/pandas-docs/stable/reference/api/pandas.Series.str.capitalize.html"
   ]
  },
  {
   "cell_type": "markdown",
   "metadata": {},
   "source": [
    "### Датасеты:\n",
    "* kings.csv"
   ]
  },
  {
   "cell_type": "markdown",
   "metadata": {},
   "source": [
    "3.1 Загрузить датасет kings.csv в датафрэйм и добавить в него столбец Name, в котором содержатся имена королей (без порядковых номеров) "
   ]
  },
  {
   "cell_type": "code",
   "execution_count": null,
   "metadata": {},
   "outputs": [],
   "source": [
    "import pandas"
   ]
  },
  {
   "cell_type": "code",
   "execution_count": 1,
   "metadata": {},
   "outputs": [
    {
     "ename": "NameError",
     "evalue": "name 'pd' is not defined",
     "output_type": "error",
     "traceback": [
      "\u001b[1;31m---------------------------------------------------------------------------\u001b[0m",
      "\u001b[1;31mNameError\u001b[0m                                 Traceback (most recent call last)",
      "\u001b[1;32m<ipython-input-1-60e3dc9bde36>\u001b[0m in \u001b[0;36m<module>\u001b[1;34m\u001b[0m\n\u001b[1;32m----> 1\u001b[1;33m \u001b[0ma\u001b[0m \u001b[1;33m=\u001b[0m \u001b[0mpd\u001b[0m\u001b[1;33m.\u001b[0m\u001b[0mread_csv\u001b[0m\u001b[1;33m(\u001b[0m\u001b[1;34mr\"C:\\Users\\175226\\Downloads\\TOBD20_lec_for_students\\TOBD20_lec_for_students\\datasets\\pandas\\kings_v2.csv\"\u001b[0m\u001b[1;33m,\u001b[0m \u001b[0msep\u001b[0m\u001b[1;33m=\u001b[0m\u001b[1;34m';'\u001b[0m\u001b[1;33m)\u001b[0m\u001b[1;33m\u001b[0m\u001b[1;33m\u001b[0m\u001b[0m\n\u001b[0m\u001b[0;32m      2\u001b[0m \u001b[0ma\u001b[0m\u001b[1;33m[\u001b[0m\u001b[1;34m'King'\u001b[0m\u001b[1;33m]\u001b[0m \u001b[1;33m=\u001b[0m \u001b[0ma\u001b[0m\u001b[1;33m[\u001b[0m\u001b[1;34m'King'\u001b[0m\u001b[1;33m]\u001b[0m\u001b[1;33m.\u001b[0m\u001b[0mstr\u001b[0m\u001b[1;33m.\u001b[0m\u001b[0mstrip\u001b[0m\u001b[1;33m(\u001b[0m\u001b[1;33m)\u001b[0m\u001b[1;33m\u001b[0m\u001b[1;33m\u001b[0m\u001b[0m\n\u001b[0;32m      3\u001b[0m \u001b[0ma\u001b[0m\u001b[1;33m[\u001b[0m\u001b[1;34m'Name'\u001b[0m\u001b[1;33m]\u001b[0m \u001b[1;33m=\u001b[0m \u001b[0ma\u001b[0m\u001b[1;33m[\u001b[0m\u001b[1;34m'King'\u001b[0m\u001b[1;33m]\u001b[0m\u001b[1;33m.\u001b[0m\u001b[0mstr\u001b[0m\u001b[1;33m.\u001b[0m\u001b[0msplit\u001b[0m\u001b[1;33m(\u001b[0m\u001b[1;34m' '\u001b[0m\u001b[1;33m)\u001b[0m\u001b[1;33m.\u001b[0m\u001b[0mstr\u001b[0m\u001b[1;33m[\u001b[0m\u001b[1;36m0\u001b[0m\u001b[1;33m]\u001b[0m\u001b[1;33m\u001b[0m\u001b[1;33m\u001b[0m\u001b[0m\n\u001b[0;32m      4\u001b[0m \u001b[0ma\u001b[0m\u001b[1;33m\u001b[0m\u001b[1;33m\u001b[0m\u001b[0m\n",
      "\u001b[1;31mNameError\u001b[0m: name 'pd' is not defined"
     ]
    }
   ],
   "source": [
    "a = pd.read_csv(r\"C:\\Users\\175226\\Downloads\\TOBD20_lec_for_students\\TOBD20_lec_for_students\\datasets\\pandas\\kings_v2.csv\", sep=';')\n",
    "a['King'] = a['King'].str.strip()\n",
    "a['Name'] = a['King'].str.split(' ').str[0]\n",
    "a"
   ]
  },
  {
   "cell_type": "markdown",
   "metadata": {},
   "source": [
    "3.2 Для датафрэйма kings загрузить порядоковые нормера королей и отфильторвать строки соответствующие королям с номерами \"I\"."
   ]
  },
  {
   "cell_type": "markdown",
   "metadata": {},
   "source": [
    "3.3 Для датафрэйма kings, для столбца King получить значения максимума и минимума для чисел, являющихся последним токеном в строке."
   ]
  },
  {
   "cell_type": "markdown",
   "metadata": {},
   "source": [
    "3.4* Для датафрэйма kings, для столбца King с помощью регулярного выражения извелечь значения начала и конца правления королей, записанные в формате (год-год)."
   ]
  },
  {
   "cell_type": "markdown",
   "metadata": {},
   "source": [
    "## 4. Работа с пропущенными значениями"
   ]
  },
  {
   "cell_type": "markdown",
   "metadata": {},
   "source": [
    "### Датасеты:\n",
    "* titanic.csv"
   ]
  },
  {
   "cell_type": "markdown",
   "metadata": {},
   "source": [
    "4.1 Подсчитать количество пропущенных значений для всех столбцов датасета titanic.csv"
   ]
  },
  {
   "cell_type": "markdown",
   "metadata": {},
   "source": [
    "4.2 Удалить из датафрейма полученного из titanic.csv все строки, в которых есть хотя бы один пропуск."
   ]
  },
  {
   "cell_type": "markdown",
   "metadata": {},
   "source": [
    "4.3 Удалить из датафрейма полученного из titanic.csv все строки, в которых есть два и более пропуска."
   ]
  },
  {
   "cell_type": "markdown",
   "metadata": {},
   "source": [
    "4.4 В датафрейме, полученном из titanic.csv, заменить все пропущенные числовые значения на значения равне среднему от аналогичного значения в предыдущей и последующей строках."
   ]
  },
  {
   "cell_type": "markdown",
   "metadata": {},
   "source": [
    "4.5 В датафрейме, полученном из titanic.csv, заменить все пропущенные числовые значения возраста на значения равне среднему значению для представителей этого пола (не выполнять операцию, если неизвестен и пол и возраст)."
   ]
  },
  {
   "cell_type": "markdown",
   "metadata": {},
   "source": [
    "## 5.Сводные таблицы в Pandas\n",
    "* см.: https://pandas.pydata.org/pandas-docs/stable/reference/api/pandas.pivot_table.html"
   ]
  },
  {
   "cell_type": "markdown",
   "metadata": {},
   "source": [
    "### Датасеты:\n",
    "* titanic.csv"
   ]
  },
  {
   "cell_type": "markdown",
   "metadata": {},
   "source": [
    "5.1 С помощью сводных таблиц определить какая доля выживших в разных классах для мужчин и женщин была на Титанике (датасет titanic.csv)"
   ]
  },
  {
   "cell_type": "markdown",
   "metadata": {},
   "source": [
    "5.2 С использованием сводных таблиц подсчитать количество мужчин и женщин плывших в разных классов на Титанике (датасет titanic.csv)"
   ]
  },
  {
   "cell_type": "markdown",
   "metadata": {},
   "source": [
    "5.3 С использованием сводных таблиц определить какая доля выживших была на Титанике для мужчин и женщин, разных классов и разных категорий возрастов (Категории возрастов: (0, 10), (10, 30), (30, 60), (60, 80)) (датасет titanic.csv)"
   ]
  },
  {
   "cell_type": "markdown",
   "metadata": {},
   "source": [
    "## 6.Объединение наборов данных"
   ]
  },
  {
   "cell_type": "markdown",
   "metadata": {},
   "source": [
    "### Датасеты:\n",
    "* sp_data2.csv\n",
    "* sp500hst.txt\n",
    "* us-state-population\n",
    "* us-state-shortcode\n",
    "* e-commerce/*\n",
    "* avocado_v1"
   ]
  },
  {
   "cell_type": "markdown",
   "metadata": {},
   "source": [
    "6.1 Добавить столбец с расшифровкой названия тикера используя данные из файла sp_data2.csv . В случае нехватки данных об именах тикеров корректно обработать их."
   ]
  },
  {
   "cell_type": "markdown",
   "metadata": {},
   "source": [
    "6.2 Вывести тикеры, для которых не были найдены рсшифровки. "
   ]
  },
  {
   "cell_type": "markdown",
   "metadata": {},
   "source": [
    "6.3 Отранжировать штаты по численности населения меньше 18 лет в 1990 году. В качестве индекса таблицы использовать название штата"
   ]
  },
  {
   "cell_type": "markdown",
   "metadata": {},
   "source": [
    "6.4 Объединить данные о торговле из /e-commerce в один датафрейм, добавив столбец 'Country', в котором указано название страны"
   ]
  },
  {
   "cell_type": "markdown",
   "metadata": {},
   "source": [
    "6.5"
   ]
  },
  {
   "cell_type": "markdown",
   "metadata": {},
   "source": [
    "6.5.1. Загрузить датасет avocado. "
   ]
  },
  {
   "cell_type": "markdown",
   "metadata": {},
   "source": [
    "6.5.2. Преобразовать столбец Date в формате datetime"
   ]
  },
  {
   "cell_type": "markdown",
   "metadata": {},
   "source": [
    "6.5.3. При помощи метода join создать новый датафрейм, в котором столбцами являются скользящие средние цен за 10 дней, а индексом - даты"
   ]
  },
  {
   "cell_type": "markdown",
   "metadata": {},
   "source": [
    "6.5.4. Изобразить на одной фигуре графики полученных временных рядом"
   ]
  },
  {
   "cell_type": "markdown",
   "metadata": {},
   "source": []
  },
  {
   "cell_type": "markdown",
   "metadata": {},
   "source": [
    "## 7. GroupBy"
   ]
  },
  {
   "cell_type": "code",
   "execution_count": null,
   "metadata": {},
   "outputs": [],
   "source": [
    "### Датасеты:\n",
    "* sp_data2.csv\n",
    "* sp500hst.txt\n",
    "* us-state-population\n",
    "* us-state-shortcode\n",
    "* e-commerce/*\n",
    "* avocado_v1"
   ]
  },
  {
   "cell_type": "markdown",
   "metadata": {},
   "source": [
    "7.1 Рассчитать суммарный объем торгов (столбец 7) для для одинаковых значений (тикеров) из столбца 2 "
   ]
  },
  {
   "cell_type": "markdown",
   "metadata": {},
   "source": [
    "7.2 Для каждого тикера подсчитать, сколько раз он встречается."
   ]
  },
  {
   "cell_type": "markdown",
   "metadata": {},
   "source": [
    "7.3 Расчитать среднее значение показателей для каждого из столбцов 3-6 для одинаковых значений (тикеров) из столбца 2 и сохранить в новом DataFrame"
   ]
  },
  {
   "cell_type": "markdown",
   "metadata": {},
   "source": [
    "7.4 Добавить в DataFrame новый столбец, содержащий объем торгов (столбец 7), нормированный по среднему значению объема торгов для данного тикера."
   ]
  },
  {
   "cell_type": "markdown",
   "metadata": {},
   "source": [
    "7.5 Для каждой из стран в датафрейме, полученном в 6.4 найти 3 самых дорогих проданных товара"
   ]
  },
  {
   "cell_type": "markdown",
   "metadata": {},
   "source": [
    "7.6 Разбить датафрейм, полученный в 6.4, на 4 файла, в зависимости от принадлежности значения столбца 'UnitPrice' интервалам:\n",
    "\n",
    "1) $ UnitPrice \\in (q_0, q_1] $\n",
    "\n",
    "2) $ UnitPrice \\in (q_1, q_2] $\n",
    "\n",
    "3) $ UnitPrice \\in (q_2, q_3] $\n",
    "\n",
    "4) $ UnitPrice \\in (q_3, q_4] $"
   ]
  },
  {
   "cell_type": "markdown",
   "metadata": {},
   "source": [
    "7.7 Создать новый столбец UnitPriceWithMean, значения которого совпадают с UnitPrice, если UnitPrice >= 2 и равны среднему значению цен товаров, больших двух, в этой стране, в противном случае"
   ]
  },
  {
   "cell_type": "markdown",
   "metadata": {},
   "source": [
    "7.8 Для каждого описания товара найти список стран, в которых этот товар был продан. Описание товара считаем корректным, если в нем все символы строки, поддерживающие приведение к регистру, приведены к верхнем"
   ]
  },
  {
   "cell_type": "markdown",
   "metadata": {},
   "source": []
  },
  {
   "cell_type": "markdown",
   "metadata": {},
   "source": []
  }
 ],
 "metadata": {
  "kernelspec": {
   "display_name": "Python 3",
   "language": "python",
   "name": "python3"
  },
  "language_info": {
   "codemirror_mode": {
    "name": "ipython",
    "version": 3
   },
   "file_extension": ".py",
   "mimetype": "text/x-python",
   "name": "python",
   "nbconvert_exporter": "python",
   "pygments_lexer": "ipython3",
   "version": "3.7.4"
  }
 },
 "nbformat": 4,
 "nbformat_minor": 2
}
