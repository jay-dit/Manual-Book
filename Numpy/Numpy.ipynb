{
 "cells": [
  {
   "cell_type": "code",
   "execution_count": 9,
   "metadata": {},
   "outputs": [
    {
     "name": "stdout",
     "output_type": "stream",
     "text": [
      "[[ 1  2  3  4  5  6  7  8  9 10]\n",
      " [ 1  1  1  1  1  1  1  1  1  1]]\n"
     ]
    }
   ],
   "source": [
    "import numpy as np \n",
    "a = np.array([[1,2,3,4,5,6,7,8,9,10],[1,1,1,1,1,1,1,1,1,1]])\n",
    "print(a)"
   ]
  },
  {
   "cell_type": "code",
   "execution_count": 22,
   "metadata": {},
   "outputs": [
    {
     "name": "stdout",
     "output_type": "stream",
     "text": [
      "[5.5 1. ]\n",
      "[1.  1.5 2.  2.5 3.  3.5 4.  4.5 5.  5.5]\n",
      "\n",
      "[2.87228132 0.        ]\n",
      "[8.25 0.  ]\n",
      "[5.5 1. ]\n"
     ]
    }
   ],
   "source": [
    "print(a.mean(axis = 1)) # Среднее\n",
    "print(a.mean(axis = 0)) # Среднее\n",
    "print()\n",
    "print(a.std(axis = 1)) # Стандартное отклонение\n",
    "print(a.var(axis = 1,ddof = 0 )) # Дисперсия\n",
    "print(np.median(a, axis = 1))"
   ]
  },
  {
   "cell_type": "code",
   "execution_count": null,
   "metadata": {},
   "outputs": [],
   "source": []
  }
 ],
 "metadata": {
  "kernelspec": {
   "display_name": "Python 3",
   "language": "python",
   "name": "python3"
  },
  "language_info": {
   "codemirror_mode": {
    "name": "ipython",
    "version": 3
   },
   "file_extension": ".py",
   "mimetype": "text/x-python",
   "name": "python",
   "nbconvert_exporter": "python",
   "pygments_lexer": "ipython3",
   "version": "3.8.8"
  },
  "metadata": {
   "interpreter": {
    "hash": "04baf9d5d37cac61fc8614a5ff4b995bac146640a8a92a6977b53498dd2697a3"
   }
  }
 },
 "nbformat": 4,
 "nbformat_minor": 2
}
