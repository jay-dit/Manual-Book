{
 "cells": [
  {
   "cell_type": "markdown",
   "metadata": {},
   "source": [
    "# Pandas (2)"
   ]
  },
  {
   "cell_type": "markdown",
   "metadata": {},
   "source": [
    "Материалы:\n",
    "* Макрушин С.В. \"Лекция 2: Библиотека Pandas\"\n",
    "* https://pandas.pydata.org/docs/user_guide/index.html#\n",
    "* https://pandas.pydata.org/docs/reference/index.html\n",
    "* Уэс Маккини. Python и анализ данных"
   ]
  },
  {
   "cell_type": "markdown",
   "metadata": {},
   "source": [
    "## Задачи для совместного разбора"
   ]
  },
  {
   "cell_type": "markdown",
   "metadata": {},
   "source": [
    "1. Загрузите данные из файла `sp500hst.txt` и обозначьте столбцы в соответствии с содержимым: `\"date\", \"ticker\", \"open\", \"high\", \"low\", \"close\", \"volume\"`."
   ]
  },
  {
   "cell_type": "code",
   "execution_count": 1,
   "metadata": {},
   "outputs": [
    {
     "data": {
      "text/html": [
       "<div>\n",
       "<style scoped>\n",
       "    .dataframe tbody tr th:only-of-type {\n",
       "        vertical-align: middle;\n",
       "    }\n",
       "\n",
       "    .dataframe tbody tr th {\n",
       "        vertical-align: top;\n",
       "    }\n",
       "\n",
       "    .dataframe thead th {\n",
       "        text-align: right;\n",
       "    }\n",
       "</style>\n",
       "<table border=\"1\" class=\"dataframe\">\n",
       "  <thead>\n",
       "    <tr style=\"text-align: right;\">\n",
       "      <th></th>\n",
       "      <th>date</th>\n",
       "      <th>ticker</th>\n",
       "      <th>open</th>\n",
       "      <th>high</th>\n",
       "      <th>low</th>\n",
       "      <th>close</th>\n",
       "      <th>volume</th>\n",
       "    </tr>\n",
       "  </thead>\n",
       "  <tbody>\n",
       "    <tr>\n",
       "      <th>0</th>\n",
       "      <td>20090821</td>\n",
       "      <td>A</td>\n",
       "      <td>25.60</td>\n",
       "      <td>25.61</td>\n",
       "      <td>25.22</td>\n",
       "      <td>25.55</td>\n",
       "      <td>34758</td>\n",
       "    </tr>\n",
       "    <tr>\n",
       "      <th>1</th>\n",
       "      <td>20090824</td>\n",
       "      <td>A</td>\n",
       "      <td>25.64</td>\n",
       "      <td>25.74</td>\n",
       "      <td>25.33</td>\n",
       "      <td>25.50</td>\n",
       "      <td>22247</td>\n",
       "    </tr>\n",
       "  </tbody>\n",
       "</table>\n",
       "</div>"
      ],
      "text/plain": [
       "       date ticker   open   high    low  close  volume\n",
       "0  20090821      A  25.60  25.61  25.22  25.55   34758\n",
       "1  20090824      A  25.64  25.74  25.33  25.50   22247"
      ]
     },
     "execution_count": 1,
     "metadata": {},
     "output_type": "execute_result"
    }
   ],
   "source": [
    "import pandas as pd\n",
    "df = pd.read_csv(\"02_pandas_data/sp500hst.txt\", sep=\",\", header=None,\n",
    "                 names=[\"date\", \"ticker\", \"open\", \"high\", \"low\", \"close\", \"volume\"])\n",
    "df.head(2)"
   ]
  },
  {
   "cell_type": "markdown",
   "metadata": {},
   "source": [
    "2. Посчитайте количество уникальных цифр, которые используются каждой строке в столбце volume."
   ]
  },
  {
   "cell_type": "code",
   "execution_count": 3,
   "metadata": {},
   "outputs": [
    {
     "data": {
      "text/plain": [
       "0         5\n",
       "1         3\n",
       "2         5\n",
       "3         2\n",
       "4         4\n",
       "         ..\n",
       "122569    4\n",
       "122570    5\n",
       "122571    5\n",
       "122572    5\n",
       "122573    4\n",
       "Name: volume, Length: 122574, dtype: int64"
      ]
     },
     "execution_count": 3,
     "metadata": {},
     "output_type": "execute_result"
    }
   ],
   "source": [
    "def n_digits(volume):\n",
    "    return len(set(str(volume)))\n",
    "\n",
    "# n_digits(34758), n_digits(22247)\n",
    "\n",
    "df[\"volume\"].map(n_digits)"
   ]
  },
  {
   "cell_type": "markdown",
   "metadata": {},
   "source": [
    "3. Для каждой строки рассчитайте разность между значениями high и low, если индекс столбца нечетный, и разность между close и high в противном случае."
   ]
  },
  {
   "cell_type": "code",
   "execution_count": 4,
   "metadata": {},
   "outputs": [
    {
     "data": {
      "text/plain": [
       "0        -0.0600\n",
       "1         0.4100\n",
       "2        -0.3600\n",
       "3         0.4975\n",
       "4        -0.0300\n",
       "           ...  \n",
       "122569    0.5200\n",
       "122570   -0.4700\n",
       "122571    0.7100\n",
       "122572   -1.4100\n",
       "122573    1.0700\n",
       "Length: 122574, dtype: float64"
      ]
     },
     "execution_count": 4,
     "metadata": {},
     "output_type": "execute_result"
    }
   ],
   "source": [
    "def diff(row):\n",
    "    if row.name % 2:\n",
    "        return row[\"high\"] - row[\"low\"]\n",
    "    else:\n",
    "        return row[\"close\"] - row[\"high\"]\n",
    "\n",
    "df.apply(diff, axis=1)"
   ]
  },
  {
   "cell_type": "code",
   "execution_count": 5,
   "metadata": {},
   "outputs": [
    {
     "data": {
      "text/plain": [
       "array([-0.06,  0.41, -0.36, ...,  0.71, -1.41,  1.07])"
      ]
     },
     "execution_count": 5,
     "metadata": {},
     "output_type": "execute_result"
    }
   ],
   "source": [
    "import numpy as np\n",
    "\n",
    "np.where(\n",
    "    df.index % 2 == 1,\n",
    "    df['high'] - df['low'],\n",
    "    df['close'] - df['high']\n",
    ")"
   ]
  },
  {
   "cell_type": "markdown",
   "metadata": {},
   "source": [
    "4. Рассчитайте суммарный объем торгов для для одинаковых значений тикеров."
   ]
  },
  {
   "cell_type": "code",
   "execution_count": 6,
   "metadata": {},
   "outputs": [
    {
     "data": {
      "text/plain": [
       "ticker\n",
       "A        8609336\n",
       "AA      81898998\n",
       "AAPL    52261170\n",
       "ABC      9006756\n",
       "ABT     18975870\n",
       "          ...   \n",
       "XTO     21297931\n",
       "YHOO    56837171\n",
       "YUM     10971538\n",
       "ZION    15551119\n",
       "ZMH      4938916\n",
       "Name: volume, Length: 524, dtype: int64"
      ]
     },
     "execution_count": 6,
     "metadata": {},
     "output_type": "execute_result"
    }
   ],
   "source": [
    "df.groupby('ticker')[\"volume\"].sum()"
   ]
  },
  {
   "cell_type": "markdown",
   "metadata": {},
   "source": [
    "5. Загрузите данные из файла sp500hst.txt и обозначьте столбцы в соответствии с содержимым: \"date\", \"ticker\", \"open\", \"high\", \"low\", \"close\", \"volume\". Добавьте столбец с расшифровкой названия тикера, используя данные из файла `sp_data2.csv` . В случае нехватки данных об именах тикеров корректно обработать их."
   ]
  },
  {
   "cell_type": "code",
   "execution_count": 8,
   "metadata": {},
   "outputs": [
    {
     "data": {
      "text/html": [
       "<div>\n",
       "<style scoped>\n",
       "    .dataframe tbody tr th:only-of-type {\n",
       "        vertical-align: middle;\n",
       "    }\n",
       "\n",
       "    .dataframe tbody tr th {\n",
       "        vertical-align: top;\n",
       "    }\n",
       "\n",
       "    .dataframe thead th {\n",
       "        text-align: right;\n",
       "    }\n",
       "</style>\n",
       "<table border=\"1\" class=\"dataframe\">\n",
       "  <thead>\n",
       "    <tr style=\"text-align: right;\">\n",
       "      <th></th>\n",
       "      <th>ticker</th>\n",
       "      <th>name</th>\n",
       "      <th>%</th>\n",
       "    </tr>\n",
       "  </thead>\n",
       "  <tbody>\n",
       "    <tr>\n",
       "      <th>0</th>\n",
       "      <td>AAPL</td>\n",
       "      <td>Apple</td>\n",
       "      <td>3.6%</td>\n",
       "    </tr>\n",
       "    <tr>\n",
       "      <th>1</th>\n",
       "      <td>AMZN</td>\n",
       "      <td>Amazon.com</td>\n",
       "      <td>3.2%</td>\n",
       "    </tr>\n",
       "    <tr>\n",
       "      <th>2</th>\n",
       "      <td>GOOGL</td>\n",
       "      <td>Alphabet</td>\n",
       "      <td>3.1%</td>\n",
       "    </tr>\n",
       "    <tr>\n",
       "      <th>3</th>\n",
       "      <td>GOOG</td>\n",
       "      <td>Alphabet</td>\n",
       "      <td>3.1%</td>\n",
       "    </tr>\n",
       "    <tr>\n",
       "      <th>4</th>\n",
       "      <td>MSFT</td>\n",
       "      <td>Microsoft</td>\n",
       "      <td>3.0%</td>\n",
       "    </tr>\n",
       "  </tbody>\n",
       "</table>\n",
       "</div>"
      ],
      "text/plain": [
       "  ticker        name     %\n",
       "0   AAPL       Apple  3.6%\n",
       "1   AMZN  Amazon.com  3.2%\n",
       "2  GOOGL    Alphabet  3.1%\n",
       "3   GOOG    Alphabet  3.1%\n",
       "4   MSFT   Microsoft  3.0%"
      ]
     },
     "execution_count": 8,
     "metadata": {},
     "output_type": "execute_result"
    }
   ],
   "source": [
    "df2 = pd.read_csv('02_pandas_data/sp_data2.csv', sep=';', names=['ticker', 'name', '%'])\n",
    "df2.head()"
   ]
  },
  {
   "cell_type": "markdown",
   "metadata": {},
   "source": [
    "## Лабораторная работа №2.2"
   ]
  },
  {
   "cell_type": "markdown",
   "metadata": {},
   "source": [
    "__Данная работа является продолжением ЛР №2. Для начала работы загрузите таблицы (см. задание 1.1)__"
   ]
  },
  {
   "cell_type": "code",
   "execution_count": 2,
   "metadata": {},
   "outputs": [],
   "source": [
    "import pandas as pd"
   ]
  },
  {
   "cell_type": "code",
   "execution_count": 3,
   "metadata": {},
   "outputs": [],
   "source": [
    "recipes = pd.read_csv('02_pandas_data/recipes_sample.csv')\n",
    "reviews = pd.read_csv('02_pandas_data/reviews_sample.csv', index_col = 0)"
   ]
  },
  {
   "cell_type": "code",
   "execution_count": 17,
   "metadata": {},
   "outputs": [
    {
     "data": {
      "text/html": [
       "<div>\n",
       "<style scoped>\n",
       "    .dataframe tbody tr th:only-of-type {\n",
       "        vertical-align: middle;\n",
       "    }\n",
       "\n",
       "    .dataframe tbody tr th {\n",
       "        vertical-align: top;\n",
       "    }\n",
       "\n",
       "    .dataframe thead th {\n",
       "        text-align: right;\n",
       "    }\n",
       "</style>\n",
       "<table border=\"1\" class=\"dataframe\">\n",
       "  <thead>\n",
       "    <tr style=\"text-align: right;\">\n",
       "      <th></th>\n",
       "      <th>name</th>\n",
       "      <th>id</th>\n",
       "      <th>minutes</th>\n",
       "      <th>contributor_id</th>\n",
       "      <th>submitted</th>\n",
       "      <th>n_steps</th>\n",
       "      <th>description</th>\n",
       "      <th>n_ingredients</th>\n",
       "    </tr>\n",
       "  </thead>\n",
       "  <tbody>\n",
       "    <tr>\n",
       "      <th>0</th>\n",
       "      <td>george s at the cove  black bean soup</td>\n",
       "      <td>44123</td>\n",
       "      <td>90</td>\n",
       "      <td>35193</td>\n",
       "      <td>2002-10-25</td>\n",
       "      <td>NaN</td>\n",
       "      <td>an original recipe created by chef scott meska...</td>\n",
       "      <td>18.0</td>\n",
       "    </tr>\n",
       "    <tr>\n",
       "      <th>1</th>\n",
       "      <td>healthy for them  yogurt popsicles</td>\n",
       "      <td>67664</td>\n",
       "      <td>10</td>\n",
       "      <td>91970</td>\n",
       "      <td>2003-07-26</td>\n",
       "      <td>NaN</td>\n",
       "      <td>my children and their friends ask for my homem...</td>\n",
       "      <td>NaN</td>\n",
       "    </tr>\n",
       "    <tr>\n",
       "      <th>2</th>\n",
       "      <td>i can t believe it s spinach</td>\n",
       "      <td>38798</td>\n",
       "      <td>30</td>\n",
       "      <td>1533</td>\n",
       "      <td>2002-08-29</td>\n",
       "      <td>NaN</td>\n",
       "      <td>these were so go, it surprised even me.</td>\n",
       "      <td>8.0</td>\n",
       "    </tr>\n",
       "  </tbody>\n",
       "</table>\n",
       "</div>"
      ],
      "text/plain": [
       "                                    name     id  minutes  contributor_id  \\\n",
       "0  george s at the cove  black bean soup  44123       90           35193   \n",
       "1     healthy for them  yogurt popsicles  67664       10           91970   \n",
       "2           i can t believe it s spinach  38798       30            1533   \n",
       "\n",
       "    submitted  n_steps                                        description  \\\n",
       "0  2002-10-25      NaN  an original recipe created by chef scott meska...   \n",
       "1  2003-07-26      NaN  my children and their friends ask for my homem...   \n",
       "2  2002-08-29      NaN            these were so go, it surprised even me.   \n",
       "\n",
       "   n_ingredients  \n",
       "0           18.0  \n",
       "1            NaN  \n",
       "2            8.0  "
      ]
     },
     "execution_count": 17,
     "metadata": {},
     "output_type": "execute_result"
    }
   ],
   "source": [
    "recipes.head(3)"
   ]
  },
  {
   "cell_type": "markdown",
   "metadata": {},
   "source": [
    "### Применение функций к pd.Series и pd.DataFrame"
   ]
  },
  {
   "cell_type": "markdown",
   "metadata": {},
   "source": [
    "4.1 Напишите функцию, которая переводит минуты в формат \"XhYm\". Примените эту функцию к столбцу `minutes` таблицы `recipes` (без перезаписи исходного столбца) при помощи метода `map`."
   ]
  },
  {
   "cell_type": "code",
   "execution_count": 4,
   "metadata": {},
   "outputs": [],
   "source": [
    "def m_to_hm(m: int) -> str:\n",
    "    return f'{m//60}h{m%60}m'\n",
    "\n",
    "assert m_to_hm(90) == \"1h30m\"\n",
    "assert m_to_hm(10) == \"0h10m\""
   ]
  },
  {
   "cell_type": "code",
   "execution_count": 5,
   "metadata": {},
   "outputs": [
    {
     "data": {
      "text/plain": [
       "0        1h30m\n",
       "1        0h10m\n",
       "2        0h30m\n",
       "3        0h45m\n",
       "4        0h25m\n",
       "         ...  \n",
       "29995    1h20m\n",
       "29996     4h0m\n",
       "29997    1h15m\n",
       "29998     1h0m\n",
       "29999    0h29m\n",
       "Name: minutes, Length: 30000, dtype: object"
      ]
     },
     "execution_count": 5,
     "metadata": {},
     "output_type": "execute_result"
    }
   ],
   "source": [
    "recipes.minutes.map(m_to_hm)"
   ]
  },
  {
   "cell_type": "code",
   "execution_count": 6,
   "metadata": {},
   "outputs": [
    {
     "data": {
      "text/plain": [
       "0         90\n",
       "1         10\n",
       "2         30\n",
       "3         45\n",
       "4         25\n",
       "        ... \n",
       "29995     80\n",
       "29996    240\n",
       "29997     75\n",
       "29998     60\n",
       "29999     29\n",
       "Name: minutes, Length: 30000, dtype: int64"
      ]
     },
     "execution_count": 6,
     "metadata": {},
     "output_type": "execute_result"
    }
   ],
   "source": [
    "recipes.minutes"
   ]
  },
  {
   "cell_type": "markdown",
   "metadata": {},
   "source": [
    "4.2 На основе таблицы `recipes` создайте таблицу, которая содержит только текстовые столбцы (используйте метод `select_dtypes`).  Примените к каждому элементу этой таблицы строковый метод `str.capitalize` при помощи метода `applymap`, не удаляя пропуски."
   ]
  },
  {
   "cell_type": "code",
   "execution_count": 12,
   "metadata": {},
   "outputs": [],
   "source": [
    "only_object = recipes.select_dtypes(include='object')"
   ]
  },
  {
   "cell_type": "code",
   "execution_count": 13,
   "metadata": {},
   "outputs": [],
   "source": [
    "only_object = only_object.applymap(str.capitalize, na_action='ignore')"
   ]
  },
  {
   "cell_type": "code",
   "execution_count": 14,
   "metadata": {},
   "outputs": [
    {
     "data": {
      "text/html": [
       "<div>\n",
       "<style scoped>\n",
       "    .dataframe tbody tr th:only-of-type {\n",
       "        vertical-align: middle;\n",
       "    }\n",
       "\n",
       "    .dataframe tbody tr th {\n",
       "        vertical-align: top;\n",
       "    }\n",
       "\n",
       "    .dataframe thead th {\n",
       "        text-align: right;\n",
       "    }\n",
       "</style>\n",
       "<table border=\"1\" class=\"dataframe\">\n",
       "  <thead>\n",
       "    <tr style=\"text-align: right;\">\n",
       "      <th></th>\n",
       "      <th>name</th>\n",
       "      <th>submitted</th>\n",
       "      <th>description</th>\n",
       "    </tr>\n",
       "  </thead>\n",
       "  <tbody>\n",
       "    <tr>\n",
       "      <th>0</th>\n",
       "      <td>George s at the cove  black bean soup</td>\n",
       "      <td>2002-10-25</td>\n",
       "      <td>An original recipe created by chef scott meska...</td>\n",
       "    </tr>\n",
       "    <tr>\n",
       "      <th>1</th>\n",
       "      <td>Healthy for them  yogurt popsicles</td>\n",
       "      <td>2003-07-26</td>\n",
       "      <td>My children and their friends ask for my homem...</td>\n",
       "    </tr>\n",
       "  </tbody>\n",
       "</table>\n",
       "</div>"
      ],
      "text/plain": [
       "                                    name   submitted  \\\n",
       "0  George s at the cove  black bean soup  2002-10-25   \n",
       "1     Healthy for them  yogurt popsicles  2003-07-26   \n",
       "\n",
       "                                         description  \n",
       "0  An original recipe created by chef scott meska...  \n",
       "1  My children and their friends ask for my homem...  "
      ]
     },
     "execution_count": 14,
     "metadata": {},
     "output_type": "execute_result"
    }
   ],
   "source": [
    "only_object.head(2)"
   ]
  },
  {
   "cell_type": "markdown",
   "metadata": {},
   "source": [
    "4.3 Напишите функцию, которая принимает на вход серию `pd.Series` и для серий, содержащих текстовые данные, возвращает максимальную длину строк в ней, а для числовых серий возвращает минимальный элемент в этой серии. Примените данную функцию к каждому столбцу таблицы `recipes` при помощи метода `apply`."
   ]
  },
  {
   "cell_type": "code",
   "execution_count": 31,
   "metadata": {},
   "outputs": [],
   "source": [
    "def get_stats(x: pd.Series) -> int:\n",
    "    if x.dtype == 'object':\n",
    "        return max(x.dropna().str.len())\n",
    "    else:\n",
    "        return min(x.dropna())\n",
    "    \n",
    "\n",
    "assert get_stats(pd.Series(['a', 'bbbb', 'ccc', None])) == 4\n",
    "assert get_stats(pd.Series([1, 3, 2, None])) == 1\n"
   ]
  },
  {
   "cell_type": "code",
   "execution_count": 29,
   "metadata": {},
   "outputs": [
    {
     "data": {
      "text/plain": [
       "name                83.0\n",
       "id                  48.0\n",
       "minutes              0.0\n",
       "contributor_id    1530.0\n",
       "submitted           10.0\n",
       "n_steps              1.0\n",
       "description       6321.0\n",
       "n_ingredients        1.0\n",
       "dtype: float64"
      ]
     },
     "execution_count": 29,
     "metadata": {},
     "output_type": "execute_result"
    }
   ],
   "source": [
    "recipes.apply(get_stats, axis = 0)"
   ]
  },
  {
   "cell_type": "markdown",
   "metadata": {},
   "source": [
    "### Группировки таблиц `pd.DataFrame`"
   ]
  },
  {
   "cell_type": "markdown",
   "metadata": {},
   "source": [
    "5.1 Посчитайте количество рецептов, представленных каждым из участников (`contributor_id`). Какой участник добавил максимальное кол-во рецептов?"
   ]
  },
  {
   "cell_type": "code",
   "execution_count": 44,
   "metadata": {},
   "outputs": [
    {
     "data": {
      "text/plain": [
       "89831      421\n",
       "37449      346\n",
       "37779      345\n",
       "1533       186\n",
       "169430     183\n",
       "          ... \n",
       "1061628      1\n",
       "1076183      1\n",
       "429061       1\n",
       "64032        1\n",
       "186118       1\n",
       "Name: contributor_id, Length: 8404, dtype: int64"
      ]
     },
     "execution_count": 44,
     "metadata": {},
     "output_type": "execute_result"
    }
   ],
   "source": [
    "recipes.contributor_id.value_counts()\n",
    "# Вероятно 89831"
   ]
  },
  {
   "cell_type": "markdown",
   "metadata": {},
   "source": [
    "5.2 Посчитайте средний рейтинг к каждому из рецептов. Для скольких рецептов отсутствуют отзывы? Обратите внимание, что отзыв с нулевым рейтингом или не заполненным текстовым описанием не считается отсутствующим."
   ]
  },
  {
   "cell_type": "code",
   "execution_count": 53,
   "metadata": {},
   "outputs": [
    {
     "data": {
      "text/html": [
       "<div>\n",
       "<style scoped>\n",
       "    .dataframe tbody tr th:only-of-type {\n",
       "        vertical-align: middle;\n",
       "    }\n",
       "\n",
       "    .dataframe tbody tr th {\n",
       "        vertical-align: top;\n",
       "    }\n",
       "\n",
       "    .dataframe thead th {\n",
       "        text-align: right;\n",
       "    }\n",
       "</style>\n",
       "<table border=\"1\" class=\"dataframe\">\n",
       "  <thead>\n",
       "    <tr style=\"text-align: right;\">\n",
       "      <th></th>\n",
       "      <th>rating</th>\n",
       "    </tr>\n",
       "    <tr>\n",
       "      <th>recipe_id</th>\n",
       "      <th></th>\n",
       "    </tr>\n",
       "  </thead>\n",
       "  <tbody>\n",
       "    <tr>\n",
       "      <th>48</th>\n",
       "      <td>1.000000</td>\n",
       "    </tr>\n",
       "    <tr>\n",
       "      <th>55</th>\n",
       "      <td>4.750000</td>\n",
       "    </tr>\n",
       "    <tr>\n",
       "      <th>66</th>\n",
       "      <td>4.944444</td>\n",
       "    </tr>\n",
       "    <tr>\n",
       "      <th>91</th>\n",
       "      <td>4.750000</td>\n",
       "    </tr>\n",
       "    <tr>\n",
       "      <th>94</th>\n",
       "      <td>5.000000</td>\n",
       "    </tr>\n",
       "    <tr>\n",
       "      <th>...</th>\n",
       "      <td>...</td>\n",
       "    </tr>\n",
       "    <tr>\n",
       "      <th>536547</th>\n",
       "      <td>5.000000</td>\n",
       "    </tr>\n",
       "    <tr>\n",
       "      <th>536610</th>\n",
       "      <td>0.000000</td>\n",
       "    </tr>\n",
       "    <tr>\n",
       "      <th>536728</th>\n",
       "      <td>4.000000</td>\n",
       "    </tr>\n",
       "    <tr>\n",
       "      <th>536729</th>\n",
       "      <td>4.750000</td>\n",
       "    </tr>\n",
       "    <tr>\n",
       "      <th>536747</th>\n",
       "      <td>0.000000</td>\n",
       "    </tr>\n",
       "  </tbody>\n",
       "</table>\n",
       "<p>28100 rows × 1 columns</p>\n",
       "</div>"
      ],
      "text/plain": [
       "             rating\n",
       "recipe_id          \n",
       "48         1.000000\n",
       "55         4.750000\n",
       "66         4.944444\n",
       "91         4.750000\n",
       "94         5.000000\n",
       "...             ...\n",
       "536547     5.000000\n",
       "536610     0.000000\n",
       "536728     4.000000\n",
       "536729     4.750000\n",
       "536747     0.000000\n",
       "\n",
       "[28100 rows x 1 columns]"
      ]
     },
     "execution_count": 53,
     "metadata": {},
     "output_type": "execute_result"
    }
   ],
   "source": [
    "reviews[['recipe_id', 'rating']].groupby('recipe_id').mean('rating')"
   ]
  },
  {
   "cell_type": "markdown",
   "metadata": {},
   "source": [
    "5.3 Посчитайте количество рецептов с разбивкой по годам создания."
   ]
  },
  {
   "cell_type": "code",
   "execution_count": 58,
   "metadata": {},
   "outputs": [
    {
     "data": {
      "text/plain": [
       "2007    4429\n",
       "2008    4029\n",
       "2006    3473\n",
       "2005    3130\n",
       "2009    2963\n",
       "2002    2644\n",
       "2003    2334\n",
       "2004    2153\n",
       "2010    1538\n",
       "2011     922\n",
       "2012     659\n",
       "2001     589\n",
       "2013     490\n",
       "1999     275\n",
       "2014     139\n",
       "2000     104\n",
       "2015      42\n",
       "2017      39\n",
       "2016      24\n",
       "2018      24\n",
       "Name: submitted, dtype: int64"
      ]
     },
     "execution_count": 58,
     "metadata": {},
     "output_type": "execute_result"
    }
   ],
   "source": [
    "recipes.submitted.map(lambda x: x[:4]).value_counts()"
   ]
  },
  {
   "cell_type": "markdown",
   "metadata": {},
   "source": [
    "5.4 Напишите функцию, которая принимает на вход таблицу (аналогичную `recipes` по набору столбцов), и возвращает `True` в том случае, если в столбце `minutes` присутствуют только значения, меньшие либо равные 10. Сгруппируйте таблицу `recipes` по полю `contributor_id` и для каждого участника выясните, справедливо ли, что все его рецепты занимают не более 10 минут."
   ]
  },
  {
   "cell_type": "code",
   "execution_count": 61,
   "metadata": {},
   "outputs": [],
   "source": [
    "import numpy as np"
   ]
  },
  {
   "cell_type": "code",
   "execution_count": 68,
   "metadata": {},
   "outputs": [],
   "source": [
    "def has_only_fast_recipes(x: pd.DataFrame) -> bool:\n",
    "    if sum(x.minutes <= 10) == len(x):\n",
    "        return True\n",
    "    else:\n",
    "        return False\n",
    "\n",
    "assert not has_only_fast_recipes(\n",
    "    pd.DataFrame(\n",
    "        {\n",
    "            \"name\": {0: \"george s\", 1: \"healthy\"},\n",
    "            \"id\": {0: 44123, 1: 67664},\n",
    "            \"minutes\": {0: 90, 1: 10},\n",
    "            \"contributor_id\": {0: 35193, 1: 91970},\n",
    "            \"submitted\": {0: \"2002-10-25\", 1: \"2003-07-26\"},\n",
    "            \"n_steps\": {0: np.nan, 1: np.nan},\n",
    "            \"description\": {0: \"123\", 1: \"zxc\"},\n",
    "            \"n_ingredients\": {0: 18.0, 1: np.nan},\n",
    "        }\n",
    "    )\n",
    ")\n",
    "assert has_only_fast_recipes(\n",
    "    pd.DataFrame(\n",
    "        {\n",
    "            \"name\": {0: \"george s\", 1: \"healthy\"},\n",
    "            \"id\": {0: 44123, 1: 67664},\n",
    "            \"minutes\": {0: 7, 1: 5},\n",
    "            \"contributor_id\": {0: 35193, 1: 91970},\n",
    "            \"submitted\": {0: \"2002-10-25\", 1: \"2003-07-26\"},\n",
    "            \"n_steps\": {0: np.nan, 1: np.nan},\n",
    "            \"description\": {0: \"123\", 1: \"zxc\"},\n",
    "            \"n_ingredients\": {0: 18.0, 1: np.nan},\n",
    "        }\n",
    "    )\n",
    ")"
   ]
  },
  {
   "cell_type": "code",
   "execution_count": 76,
   "metadata": {},
   "outputs": [
    {
     "data": {
      "text/html": [
       "<div>\n",
       "<style scoped>\n",
       "    .dataframe tbody tr th:only-of-type {\n",
       "        vertical-align: middle;\n",
       "    }\n",
       "\n",
       "    .dataframe tbody tr th {\n",
       "        vertical-align: top;\n",
       "    }\n",
       "\n",
       "    .dataframe thead th {\n",
       "        text-align: right;\n",
       "    }\n",
       "</style>\n",
       "<table border=\"1\" class=\"dataframe\">\n",
       "  <thead>\n",
       "    <tr style=\"text-align: right;\">\n",
       "      <th></th>\n",
       "      <th>minutes</th>\n",
       "    </tr>\n",
       "    <tr>\n",
       "      <th>contributor_id</th>\n",
       "      <th></th>\n",
       "    </tr>\n",
       "  </thead>\n",
       "  <tbody>\n",
       "    <tr>\n",
       "      <th>1530</th>\n",
       "      <td>50</td>\n",
       "    </tr>\n",
       "    <tr>\n",
       "      <th>1533</th>\n",
       "      <td>2890</td>\n",
       "    </tr>\n",
       "    <tr>\n",
       "      <th>1534</th>\n",
       "      <td>17340</td>\n",
       "    </tr>\n",
       "    <tr>\n",
       "      <th>1535</th>\n",
       "      <td>630</td>\n",
       "    </tr>\n",
       "    <tr>\n",
       "      <th>1538</th>\n",
       "      <td>125</td>\n",
       "    </tr>\n",
       "    <tr>\n",
       "      <th>...</th>\n",
       "      <td>...</td>\n",
       "    </tr>\n",
       "    <tr>\n",
       "      <th>2001968497</th>\n",
       "      <td>210</td>\n",
       "    </tr>\n",
       "    <tr>\n",
       "      <th>2002059754</th>\n",
       "      <td>50</td>\n",
       "    </tr>\n",
       "    <tr>\n",
       "      <th>2002234079</th>\n",
       "      <td>45</td>\n",
       "    </tr>\n",
       "    <tr>\n",
       "      <th>2002234259</th>\n",
       "      <td>35</td>\n",
       "    </tr>\n",
       "    <tr>\n",
       "      <th>2002247884</th>\n",
       "      <td>210</td>\n",
       "    </tr>\n",
       "  </tbody>\n",
       "</table>\n",
       "<p>7767 rows × 1 columns</p>\n",
       "</div>"
      ],
      "text/plain": [
       "                minutes\n",
       "contributor_id         \n",
       "1530                 50\n",
       "1533               2890\n",
       "1534              17340\n",
       "1535                630\n",
       "1538                125\n",
       "...                 ...\n",
       "2001968497          210\n",
       "2002059754           50\n",
       "2002234079           45\n",
       "2002234259           35\n",
       "2002247884          210\n",
       "\n",
       "[7767 rows x 1 columns]"
      ]
     },
     "execution_count": 76,
     "metadata": {},
     "output_type": "execute_result"
    }
   ],
   "source": [
    "df = recipes[['contributor_id', 'minutes']].groupby('contributor_id').max('minutes')\n",
    "# Все кто больше 10\n",
    "df[df.minutes > 10]"
   ]
  },
  {
   "cell_type": "code",
   "execution_count": 77,
   "metadata": {},
   "outputs": [
    {
     "data": {
      "text/html": [
       "<div>\n",
       "<style scoped>\n",
       "    .dataframe tbody tr th:only-of-type {\n",
       "        vertical-align: middle;\n",
       "    }\n",
       "\n",
       "    .dataframe tbody tr th {\n",
       "        vertical-align: top;\n",
       "    }\n",
       "\n",
       "    .dataframe thead th {\n",
       "        text-align: right;\n",
       "    }\n",
       "</style>\n",
       "<table border=\"1\" class=\"dataframe\">\n",
       "  <thead>\n",
       "    <tr style=\"text-align: right;\">\n",
       "      <th></th>\n",
       "      <th>minutes</th>\n",
       "    </tr>\n",
       "    <tr>\n",
       "      <th>contributor_id</th>\n",
       "      <th></th>\n",
       "    </tr>\n",
       "  </thead>\n",
       "  <tbody>\n",
       "    <tr>\n",
       "      <th>1567</th>\n",
       "      <td>0</td>\n",
       "    </tr>\n",
       "    <tr>\n",
       "      <th>1573</th>\n",
       "      <td>0</td>\n",
       "    </tr>\n",
       "    <tr>\n",
       "      <th>1603</th>\n",
       "      <td>0</td>\n",
       "    </tr>\n",
       "    <tr>\n",
       "      <th>1648</th>\n",
       "      <td>10</td>\n",
       "    </tr>\n",
       "    <tr>\n",
       "      <th>1654</th>\n",
       "      <td>10</td>\n",
       "    </tr>\n",
       "    <tr>\n",
       "      <th>...</th>\n",
       "      <td>...</td>\n",
       "    </tr>\n",
       "    <tr>\n",
       "      <th>1800069055</th>\n",
       "      <td>2</td>\n",
       "    </tr>\n",
       "    <tr>\n",
       "      <th>2000034751</th>\n",
       "      <td>8</td>\n",
       "    </tr>\n",
       "    <tr>\n",
       "      <th>2001051242</th>\n",
       "      <td>10</td>\n",
       "    </tr>\n",
       "    <tr>\n",
       "      <th>2001375952</th>\n",
       "      <td>5</td>\n",
       "    </tr>\n",
       "    <tr>\n",
       "      <th>2001662740</th>\n",
       "      <td>6</td>\n",
       "    </tr>\n",
       "  </tbody>\n",
       "</table>\n",
       "<p>637 rows × 1 columns</p>\n",
       "</div>"
      ],
      "text/plain": [
       "                minutes\n",
       "contributor_id         \n",
       "1567                  0\n",
       "1573                  0\n",
       "1603                  0\n",
       "1648                 10\n",
       "1654                 10\n",
       "...                 ...\n",
       "1800069055            2\n",
       "2000034751            8\n",
       "2001051242           10\n",
       "2001375952            5\n",
       "2001662740            6\n",
       "\n",
       "[637 rows x 1 columns]"
      ]
     },
     "execution_count": 77,
     "metadata": {},
     "output_type": "execute_result"
    }
   ],
   "source": [
    "# все кто меньше 10 минут\n",
    "df[df.minutes <= 10]"
   ]
  },
  {
   "cell_type": "markdown",
   "metadata": {},
   "source": [
    "### Объединение таблиц `pd.DataFrame`"
   ]
  },
  {
   "cell_type": "markdown",
   "metadata": {},
   "source": [
    "6.1 При помощи объединения таблиц, создайте `DataFrame`, состоящий из четырех столбцов: `id`, `name`, `user_id`, `rating`. Рецепты, на которые не оставлен ни один отзыв, должны отсутствовать в полученной таблице. Подтвердите правильность работы вашего кода, выбрав рецепт, не имеющий отзывов, и попытавшись найти строку, соответствующую этому рецепту, в полученном `DataFrame`."
   ]
  },
  {
   "cell_type": "code",
   "execution_count": 167,
   "metadata": {},
   "outputs": [
    {
     "data": {
      "text/html": [
       "<div>\n",
       "<style scoped>\n",
       "    .dataframe tbody tr th:only-of-type {\n",
       "        vertical-align: middle;\n",
       "    }\n",
       "\n",
       "    .dataframe tbody tr th {\n",
       "        vertical-align: top;\n",
       "    }\n",
       "\n",
       "    .dataframe thead th {\n",
       "        text-align: right;\n",
       "    }\n",
       "</style>\n",
       "<table border=\"1\" class=\"dataframe\">\n",
       "  <thead>\n",
       "    <tr style=\"text-align: right;\">\n",
       "      <th></th>\n",
       "      <th>id</th>\n",
       "      <th>name</th>\n",
       "      <th>user_id</th>\n",
       "      <th>rating</th>\n",
       "    </tr>\n",
       "  </thead>\n",
       "  <tbody>\n",
       "    <tr>\n",
       "      <th>0</th>\n",
       "      <td>57993</td>\n",
       "      <td>salmon with tomatoes</td>\n",
       "      <td>21752</td>\n",
       "      <td>5</td>\n",
       "    </tr>\n",
       "    <tr>\n",
       "      <th>1</th>\n",
       "      <td>142201</td>\n",
       "      <td>lemon cajun stir fry</td>\n",
       "      <td>431813</td>\n",
       "      <td>5</td>\n",
       "    </tr>\n",
       "    <tr>\n",
       "      <th>2</th>\n",
       "      <td>252013</td>\n",
       "      <td>cottage cheese  honey and cinnamon on toast</td>\n",
       "      <td>400708</td>\n",
       "      <td>4</td>\n",
       "    </tr>\n",
       "    <tr>\n",
       "      <th>3</th>\n",
       "      <td>404716</td>\n",
       "      <td>belly buttons</td>\n",
       "      <td>2001852463</td>\n",
       "      <td>5</td>\n",
       "    </tr>\n",
       "    <tr>\n",
       "      <th>4</th>\n",
       "      <td>129396</td>\n",
       "      <td>double tomato soup</td>\n",
       "      <td>95810</td>\n",
       "      <td>5</td>\n",
       "    </tr>\n",
       "    <tr>\n",
       "      <th>...</th>\n",
       "      <td>...</td>\n",
       "      <td>...</td>\n",
       "      <td>...</td>\n",
       "      <td>...</td>\n",
       "    </tr>\n",
       "    <tr>\n",
       "      <th>126691</th>\n",
       "      <td>335534</td>\n",
       "      <td>melissa s lemon pepper chicken</td>\n",
       "      <td>1270706</td>\n",
       "      <td>4</td>\n",
       "    </tr>\n",
       "    <tr>\n",
       "      <th>126692</th>\n",
       "      <td>8701</td>\n",
       "      <td>should be illegal oven bbq ribs</td>\n",
       "      <td>2282344</td>\n",
       "      <td>0</td>\n",
       "    </tr>\n",
       "    <tr>\n",
       "      <th>126693</th>\n",
       "      <td>222001</td>\n",
       "      <td>cheesy bacon bread</td>\n",
       "      <td>689540</td>\n",
       "      <td>5</td>\n",
       "    </tr>\n",
       "    <tr>\n",
       "      <th>126694</th>\n",
       "      <td>354979</td>\n",
       "      <td>kittencal s pan seared steak  stove top to ove...</td>\n",
       "      <td>2000242659</td>\n",
       "      <td>5</td>\n",
       "    </tr>\n",
       "    <tr>\n",
       "      <th>126695</th>\n",
       "      <td>415599</td>\n",
       "      <td>montreal steak spice</td>\n",
       "      <td>463435</td>\n",
       "      <td>5</td>\n",
       "    </tr>\n",
       "  </tbody>\n",
       "</table>\n",
       "<p>126696 rows × 4 columns</p>\n",
       "</div>"
      ],
      "text/plain": [
       "            id                                               name     user_id  \\\n",
       "0        57993                               salmon with tomatoes       21752   \n",
       "1       142201                               lemon cajun stir fry      431813   \n",
       "2       252013        cottage cheese  honey and cinnamon on toast      400708   \n",
       "3       404716                                      belly buttons  2001852463   \n",
       "4       129396                                 double tomato soup       95810   \n",
       "...        ...                                                ...         ...   \n",
       "126691  335534                     melissa s lemon pepper chicken     1270706   \n",
       "126692    8701                    should be illegal oven bbq ribs     2282344   \n",
       "126693  222001                                 cheesy bacon bread      689540   \n",
       "126694  354979  kittencal s pan seared steak  stove top to ove...  2000242659   \n",
       "126695  415599                               montreal steak spice      463435   \n",
       "\n",
       "        rating  \n",
       "0            5  \n",
       "1            5  \n",
       "2            4  \n",
       "3            5  \n",
       "4            5  \n",
       "...        ...  \n",
       "126691       4  \n",
       "126692       0  \n",
       "126693       5  \n",
       "126694       5  \n",
       "126695       5  \n",
       "\n",
       "[126696 rows x 4 columns]"
      ]
     },
     "execution_count": 167,
     "metadata": {},
     "output_type": "execute_result"
    }
   ],
   "source": [
    "from turtle import right\n",
    "\n",
    "\n",
    "df = recipes[['id', 'name']].merge(reviews[['user_id', 'rating', 'recipe_id']], \n",
    "                              how = 'right',\n",
    "                              left_on='id',\n",
    "                              right_on = 'recipe_id')\n",
    "del df['recipe_id']\n",
    "df"
   ]
  },
  {
   "cell_type": "code",
   "execution_count": 168,
   "metadata": {},
   "outputs": [
    {
     "data": {
      "text/html": [
       "<div>\n",
       "<style scoped>\n",
       "    .dataframe tbody tr th:only-of-type {\n",
       "        vertical-align: middle;\n",
       "    }\n",
       "\n",
       "    .dataframe tbody tr th {\n",
       "        vertical-align: top;\n",
       "    }\n",
       "\n",
       "    .dataframe thead th {\n",
       "        text-align: right;\n",
       "    }\n",
       "</style>\n",
       "<table border=\"1\" class=\"dataframe\">\n",
       "  <thead>\n",
       "    <tr style=\"text-align: right;\">\n",
       "      <th></th>\n",
       "      <th>id</th>\n",
       "      <th>name</th>\n",
       "      <th>user_id</th>\n",
       "      <th>rating</th>\n",
       "    </tr>\n",
       "  </thead>\n",
       "  <tbody>\n",
       "  </tbody>\n",
       "</table>\n",
       "</div>"
      ],
      "text/plain": [
       "Empty DataFrame\n",
       "Columns: [id, name, user_id, rating]\n",
       "Index: []"
      ]
     },
     "execution_count": 168,
     "metadata": {},
     "output_type": "execute_result"
    }
   ],
   "source": [
    "df[df['id'] == 401411]"
   ]
  },
  {
   "cell_type": "markdown",
   "metadata": {},
   "source": [
    "6.2 При помощи объединения таблиц и группировок, создайте `DataFrame`, состоящий из трех столбцов: `recipe_id`, `name`, `review_count`, где столбец `review_count` содержит кол-во отзывов, оставленных на рецепт `recipe_id`. У рецептов, на которые не оставлен ни один отзыв, в столбце `review_count` должен быть указан 0. Подтвердите правильность работы вашего кода, выбрав рецепт, не имеющий отзывов, и найдя строку, соответствующую этому рецепту, в полученном `DataFrame`."
   ]
  },
  {
   "cell_type": "code",
   "execution_count": 164,
   "metadata": {},
   "outputs": [
    {
     "data": {
      "text/html": [
       "<div>\n",
       "<style scoped>\n",
       "    .dataframe tbody tr th:only-of-type {\n",
       "        vertical-align: middle;\n",
       "    }\n",
       "\n",
       "    .dataframe tbody tr th {\n",
       "        vertical-align: top;\n",
       "    }\n",
       "\n",
       "    .dataframe thead th {\n",
       "        text-align: right;\n",
       "    }\n",
       "</style>\n",
       "<table border=\"1\" class=\"dataframe\">\n",
       "  <thead>\n",
       "    <tr style=\"text-align: right;\">\n",
       "      <th></th>\n",
       "      <th>name</th>\n",
       "      <th>id</th>\n",
       "      <th>review_count</th>\n",
       "    </tr>\n",
       "  </thead>\n",
       "  <tbody>\n",
       "    <tr>\n",
       "      <th>8828</th>\n",
       "      <td>crunchy ranch croutons</td>\n",
       "      <td>401411</td>\n",
       "      <td>0.0</td>\n",
       "    </tr>\n",
       "  </tbody>\n",
       "</table>\n",
       "</div>"
      ],
      "text/plain": [
       "                        name      id  review_count\n",
       "8828  crunchy ranch croutons  401411           0.0"
      ]
     },
     "execution_count": 164,
     "metadata": {},
     "output_type": "execute_result"
    }
   ],
   "source": [
    "df = reviews[['recipe_id']].value_counts()\n",
    "df = df.rename_axis('recipe_id').reset_index()\n",
    "df['review_count'] = df[0]\n",
    "del df[0]\n",
    "\n",
    "df = recipes[['name','id']].merge(df,\n",
    "                            how = 'left',\n",
    "                            left_on= 'id',\n",
    "                            right_on='recipe_id',\n",
    "                            ).fillna(0)\n",
    "del df['recipe_id']\n",
    "\n",
    "df[df['id'] == 401411]"
   ]
  },
  {
   "cell_type": "markdown",
   "metadata": {},
   "source": [
    "6.3. Выясните, рецепты, добавленные в каком году, имеют наименьший средний рейтинг?"
   ]
  },
  {
   "cell_type": "code",
   "execution_count": 173,
   "metadata": {},
   "outputs": [],
   "source": [
    "df = reviews[['recipe_id', 'rating']].merge(recipes[['id', 'submitted']],\n",
    "                                        how = 'left',\n",
    "                                        left_on = 'recipe_id',\n",
    "                                        right_on = 'id')[['rating', 'submitted']]"
   ]
  },
  {
   "cell_type": "code",
   "execution_count": 174,
   "metadata": {},
   "outputs": [],
   "source": [
    "df['Year'] = df.submitted.map(lambda x: x[:4])\n",
    "del df['submitted']"
   ]
  },
  {
   "cell_type": "code",
   "execution_count": 176,
   "metadata": {},
   "outputs": [
    {
     "data": {
      "text/html": [
       "<div>\n",
       "<style scoped>\n",
       "    .dataframe tbody tr th:only-of-type {\n",
       "        vertical-align: middle;\n",
       "    }\n",
       "\n",
       "    .dataframe tbody tr th {\n",
       "        vertical-align: top;\n",
       "    }\n",
       "\n",
       "    .dataframe thead th {\n",
       "        text-align: right;\n",
       "    }\n",
       "</style>\n",
       "<table border=\"1\" class=\"dataframe\">\n",
       "  <thead>\n",
       "    <tr style=\"text-align: right;\">\n",
       "      <th></th>\n",
       "      <th>rating</th>\n",
       "    </tr>\n",
       "    <tr>\n",
       "      <th>Year</th>\n",
       "      <th></th>\n",
       "    </tr>\n",
       "  </thead>\n",
       "  <tbody>\n",
       "    <tr>\n",
       "      <th>1999</th>\n",
       "      <td>4.274895</td>\n",
       "    </tr>\n",
       "    <tr>\n",
       "      <th>2000</th>\n",
       "      <td>4.284585</td>\n",
       "    </tr>\n",
       "    <tr>\n",
       "      <th>2001</th>\n",
       "      <td>4.393945</td>\n",
       "    </tr>\n",
       "    <tr>\n",
       "      <th>2002</th>\n",
       "      <td>4.404645</td>\n",
       "    </tr>\n",
       "    <tr>\n",
       "      <th>2003</th>\n",
       "      <td>4.439152</td>\n",
       "    </tr>\n",
       "    <tr>\n",
       "      <th>2004</th>\n",
       "      <td>4.463778</td>\n",
       "    </tr>\n",
       "    <tr>\n",
       "      <th>2005</th>\n",
       "      <td>4.409687</td>\n",
       "    </tr>\n",
       "    <tr>\n",
       "      <th>2006</th>\n",
       "      <td>4.416310</td>\n",
       "    </tr>\n",
       "    <tr>\n",
       "      <th>2007</th>\n",
       "      <td>4.420073</td>\n",
       "    </tr>\n",
       "    <tr>\n",
       "      <th>2008</th>\n",
       "      <td>4.387416</td>\n",
       "    </tr>\n",
       "    <tr>\n",
       "      <th>2009</th>\n",
       "      <td>4.360447</td>\n",
       "    </tr>\n",
       "    <tr>\n",
       "      <th>2010</th>\n",
       "      <td>4.406279</td>\n",
       "    </tr>\n",
       "    <tr>\n",
       "      <th>2011</th>\n",
       "      <td>4.375850</td>\n",
       "    </tr>\n",
       "    <tr>\n",
       "      <th>2012</th>\n",
       "      <td>4.412736</td>\n",
       "    </tr>\n",
       "    <tr>\n",
       "      <th>2013</th>\n",
       "      <td>4.336508</td>\n",
       "    </tr>\n",
       "    <tr>\n",
       "      <th>2014</th>\n",
       "      <td>4.538235</td>\n",
       "    </tr>\n",
       "    <tr>\n",
       "      <th>2015</th>\n",
       "      <td>4.207317</td>\n",
       "    </tr>\n",
       "    <tr>\n",
       "      <th>2016</th>\n",
       "      <td>3.538462</td>\n",
       "    </tr>\n",
       "    <tr>\n",
       "      <th>2017</th>\n",
       "      <td>2.750000</td>\n",
       "    </tr>\n",
       "    <tr>\n",
       "      <th>2018</th>\n",
       "      <td>3.388889</td>\n",
       "    </tr>\n",
       "  </tbody>\n",
       "</table>\n",
       "</div>"
      ],
      "text/plain": [
       "        rating\n",
       "Year          \n",
       "1999  4.274895\n",
       "2000  4.284585\n",
       "2001  4.393945\n",
       "2002  4.404645\n",
       "2003  4.439152\n",
       "2004  4.463778\n",
       "2005  4.409687\n",
       "2006  4.416310\n",
       "2007  4.420073\n",
       "2008  4.387416\n",
       "2009  4.360447\n",
       "2010  4.406279\n",
       "2011  4.375850\n",
       "2012  4.412736\n",
       "2013  4.336508\n",
       "2014  4.538235\n",
       "2015  4.207317\n",
       "2016  3.538462\n",
       "2017  2.750000\n",
       "2018  3.388889"
      ]
     },
     "execution_count": 176,
     "metadata": {},
     "output_type": "execute_result"
    }
   ],
   "source": [
    "df.groupby('Year').mean('rating')"
   ]
  },
  {
   "cell_type": "code",
   "execution_count": null,
   "metadata": {},
   "outputs": [],
   "source": [
    "# 2018"
   ]
  },
  {
   "cell_type": "markdown",
   "metadata": {},
   "source": [
    "### Сохранение таблиц `pd.DataFrame`"
   ]
  },
  {
   "cell_type": "markdown",
   "metadata": {},
   "source": [
    "7.1 Отсортируйте результат выполнения задания 6.1 в порядке убывания величины столбца `id` и сохраните результаты в csv файл. "
   ]
  },
  {
   "cell_type": "code",
   "execution_count": 181,
   "metadata": {},
   "outputs": [],
   "source": [
    "from turtle import right\n",
    "\n",
    "\n",
    "df = recipes[['id', 'name']].merge(reviews[['user_id', 'rating', 'recipe_id']], \n",
    "                              how = 'right',\n",
    "                              left_on='id',\n",
    "                              right_on = 'recipe_id')\n",
    "del df['recipe_id']\n",
    "df.sort_values('id').to_csv('7.csv')"
   ]
  },
  {
   "cell_type": "markdown",
   "metadata": {},
   "source": [
    "7.2 Воспользовавшись `pd.ExcelWriter`, cохраните результаты 6.1 и 6.2 в файл: на лист с названием `Рецепты с оценками` сохраните результаты выполнения 6.1; на лист с названием `Количество отзывов по рецептам` сохраните результаты выполнения 6.2."
   ]
  },
  {
   "cell_type": "code",
   "execution_count": 182,
   "metadata": {},
   "outputs": [
    {
     "data": {
      "text/html": [
       "<div>\n",
       "<style scoped>\n",
       "    .dataframe tbody tr th:only-of-type {\n",
       "        vertical-align: middle;\n",
       "    }\n",
       "\n",
       "    .dataframe tbody tr th {\n",
       "        vertical-align: top;\n",
       "    }\n",
       "\n",
       "    .dataframe thead th {\n",
       "        text-align: right;\n",
       "    }\n",
       "</style>\n",
       "<table border=\"1\" class=\"dataframe\">\n",
       "  <thead>\n",
       "    <tr style=\"text-align: right;\">\n",
       "      <th></th>\n",
       "      <th>id</th>\n",
       "      <th>name</th>\n",
       "      <th>user_id</th>\n",
       "      <th>rating</th>\n",
       "    </tr>\n",
       "  </thead>\n",
       "  <tbody>\n",
       "    <tr>\n",
       "      <th>0</th>\n",
       "      <td>57993</td>\n",
       "      <td>salmon with tomatoes</td>\n",
       "      <td>21752</td>\n",
       "      <td>5</td>\n",
       "    </tr>\n",
       "    <tr>\n",
       "      <th>1</th>\n",
       "      <td>142201</td>\n",
       "      <td>lemon cajun stir fry</td>\n",
       "      <td>431813</td>\n",
       "      <td>5</td>\n",
       "    </tr>\n",
       "    <tr>\n",
       "      <th>2</th>\n",
       "      <td>252013</td>\n",
       "      <td>cottage cheese  honey and cinnamon on toast</td>\n",
       "      <td>400708</td>\n",
       "      <td>4</td>\n",
       "    </tr>\n",
       "    <tr>\n",
       "      <th>3</th>\n",
       "      <td>404716</td>\n",
       "      <td>belly buttons</td>\n",
       "      <td>2001852463</td>\n",
       "      <td>5</td>\n",
       "    </tr>\n",
       "    <tr>\n",
       "      <th>4</th>\n",
       "      <td>129396</td>\n",
       "      <td>double tomato soup</td>\n",
       "      <td>95810</td>\n",
       "      <td>5</td>\n",
       "    </tr>\n",
       "    <tr>\n",
       "      <th>...</th>\n",
       "      <td>...</td>\n",
       "      <td>...</td>\n",
       "      <td>...</td>\n",
       "      <td>...</td>\n",
       "    </tr>\n",
       "    <tr>\n",
       "      <th>126691</th>\n",
       "      <td>335534</td>\n",
       "      <td>melissa s lemon pepper chicken</td>\n",
       "      <td>1270706</td>\n",
       "      <td>4</td>\n",
       "    </tr>\n",
       "    <tr>\n",
       "      <th>126692</th>\n",
       "      <td>8701</td>\n",
       "      <td>should be illegal oven bbq ribs</td>\n",
       "      <td>2282344</td>\n",
       "      <td>0</td>\n",
       "    </tr>\n",
       "    <tr>\n",
       "      <th>126693</th>\n",
       "      <td>222001</td>\n",
       "      <td>cheesy bacon bread</td>\n",
       "      <td>689540</td>\n",
       "      <td>5</td>\n",
       "    </tr>\n",
       "    <tr>\n",
       "      <th>126694</th>\n",
       "      <td>354979</td>\n",
       "      <td>kittencal s pan seared steak  stove top to ove...</td>\n",
       "      <td>2000242659</td>\n",
       "      <td>5</td>\n",
       "    </tr>\n",
       "    <tr>\n",
       "      <th>126695</th>\n",
       "      <td>415599</td>\n",
       "      <td>montreal steak spice</td>\n",
       "      <td>463435</td>\n",
       "      <td>5</td>\n",
       "    </tr>\n",
       "  </tbody>\n",
       "</table>\n",
       "<p>126696 rows × 4 columns</p>\n",
       "</div>"
      ],
      "text/plain": [
       "            id                                               name     user_id  \\\n",
       "0        57993                               salmon with tomatoes       21752   \n",
       "1       142201                               lemon cajun stir fry      431813   \n",
       "2       252013        cottage cheese  honey and cinnamon on toast      400708   \n",
       "3       404716                                      belly buttons  2001852463   \n",
       "4       129396                                 double tomato soup       95810   \n",
       "...        ...                                                ...         ...   \n",
       "126691  335534                     melissa s lemon pepper chicken     1270706   \n",
       "126692    8701                    should be illegal oven bbq ribs     2282344   \n",
       "126693  222001                                 cheesy bacon bread      689540   \n",
       "126694  354979  kittencal s pan seared steak  stove top to ove...  2000242659   \n",
       "126695  415599                               montreal steak spice      463435   \n",
       "\n",
       "        rating  \n",
       "0            5  \n",
       "1            5  \n",
       "2            4  \n",
       "3            5  \n",
       "4            5  \n",
       "...        ...  \n",
       "126691       4  \n",
       "126692       0  \n",
       "126693       5  \n",
       "126694       5  \n",
       "126695       5  \n",
       "\n",
       "[126696 rows x 4 columns]"
      ]
     },
     "execution_count": 182,
     "metadata": {},
     "output_type": "execute_result"
    }
   ],
   "source": [
    "from turtle import right\n",
    "\n",
    "\n",
    "df1 = recipes[['id', 'name']].merge(reviews[['user_id', 'rating', 'recipe_id']], \n",
    "                              how = 'right',\n",
    "                              left_on='id',\n",
    "                              right_on = 'recipe_id')\n",
    "del df1['recipe_id']\n",
    "df1"
   ]
  },
  {
   "cell_type": "code",
   "execution_count": 183,
   "metadata": {},
   "outputs": [],
   "source": [
    "df = reviews[['recipe_id']].value_counts()\n",
    "df = df.rename_axis('recipe_id').reset_index()\n",
    "df['review_count'] = df[0]\n",
    "del df[0]\n",
    "\n",
    "df = recipes[['name','id']].merge(df,\n",
    "                            how = 'left',\n",
    "                            left_on= 'id',\n",
    "                            right_on='recipe_id',\n",
    "                            ).fillna(0)\n",
    "del df['recipe_id']"
   ]
  },
  {
   "cell_type": "code",
   "execution_count": 185,
   "metadata": {},
   "outputs": [],
   "source": [
    "with pd.ExcelWriter(\"7.xlsx\") as writer:\n",
    "    df1.to_excel(writer, sheet_name=\"Рецепты с оценками\")  \n",
    "    df.to_excel(writer, sheet_name=\"Количество отзывов по рецептам\") "
   ]
  },
  {
   "cell_type": "code",
   "execution_count": null,
   "metadata": {},
   "outputs": [],
   "source": []
  }
 ],
 "metadata": {
  "kernelspec": {
   "display_name": "Python 3.9.13 64-bit",
   "language": "python",
   "name": "python3"
  },
  "language_info": {
   "codemirror_mode": {
    "name": "ipython",
    "version": 3
   },
   "file_extension": ".py",
   "mimetype": "text/x-python",
   "name": "python",
   "nbconvert_exporter": "python",
   "pygments_lexer": "ipython3",
   "version": "3.9.13"
  },
  "vscode": {
   "interpreter": {
    "hash": "d223958bdf48b61b0a500eaf56a781e451b3f0e5c4ca1fe76a92ce8d2a55e492"
   }
  }
 },
 "nbformat": 4,
 "nbformat_minor": 4
}
