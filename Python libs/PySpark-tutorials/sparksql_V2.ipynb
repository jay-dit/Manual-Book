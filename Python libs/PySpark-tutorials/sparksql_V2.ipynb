{
 "cells": [
  {
   "cell_type": "code",
   "execution_count": 1,
   "metadata": {},
   "outputs": [],
   "source": [
    "from pyspark.sql import SparkSession\n",
    "import pyspark.sql.functions as F\n",
    "spark = SparkSession.builder.appName(\"AppName\").getOrCreate()\n",
    "df = spark.read\\\n",
    "    .format(\"csv\")\\\n",
    "    .option(\"header\",\"true\")\\\n",
    "    .load(\"data/cars.csv\")\n",
    "\n",
    "# from pyspark.sql.types import *\n",
    "\n",
    "# data_schema = [\n",
    "#                StructField('_c0', IntegerType(), True),\n",
    "#                StructField('symbol', StringType(), True),\n",
    "#                StructField('data', DateType(), True),\n",
    "#                StructField('open', DoubleType(), True),\n",
    "#                StructField('high', DoubleType(), True),\n",
    "#                StructField('low', DoubleType(), True),\n",
    "#                StructField('close', DoubleType(), True),\n",
    "#                StructField('volume', IntegerType(), True),\n",
    "#                StructField('adjusted', DoubleType(), True),\n",
    "#                StructField('market.cap', StringType(), True),\n",
    "#                StructField('sector', StringType(), True),\n",
    "#                StructField('industry', StringType(), True),\n",
    "#                StructField('exchange', StringType(), True),\n",
    "#             ]\n",
    "\n",
    "# final_struc = StructType(fields = data_schema)\n",
    "\n",
    "# data = spark.read.csv(\n",
    "#     'stocks_price_final.csv',\n",
    "#     sep=',',\n",
    "#     header=True,\n",
    "#     schema=final_struc \n",
    "# )"
   ]
  },
  {
   "cell_type": "code",
   "execution_count": 2,
   "metadata": {},
   "outputs": [
    {
     "name": "stdout",
     "output_type": "stream",
     "text": [
      "-RECORD 0-------------------------\n",
      " manufacturer_name | Subaru       \n",
      " model_name        | Outback      \n",
      " transmission      | automatic    \n",
      " color             | silver       \n",
      " odometer_value    | 190000       \n",
      " year_produced     | 2010         \n",
      " engine_fuel       | gasoline     \n",
      " engine_has_gas    | False        \n",
      " engine_type       | gasoline     \n",
      " engine_capacity   | 2.5          \n",
      " body_type         | universal    \n",
      " has_warranty      | False        \n",
      " state             | owned        \n",
      " drivetrain        | all          \n",
      " price_usd         | 10900.0      \n",
      " is_exchangeable   | False        \n",
      " location_region   | Минская обл. \n",
      " number_of_photos  | 9            \n",
      " up_counter        | 13           \n",
      " feature_0         | False        \n",
      " feature_1         | True         \n",
      " feature_2         | True         \n",
      " feature_3         | True         \n",
      " feature_4         | False        \n",
      " feature_5         | True         \n",
      " feature_6         | False        \n",
      " feature_7         | True         \n",
      " feature_8         | True         \n",
      " feature_9         | True         \n",
      " duration_listed   | 16           \n",
      "only showing top 1 row\n",
      "\n"
     ]
    }
   ],
   "source": [
    "df.show(1, vertical=True)"
   ]
  },
  {
   "cell_type": "code",
   "execution_count": null,
   "metadata": {},
   "outputs": [],
   "source": []
  },
  {
   "cell_type": "code",
   "execution_count": 100,
   "metadata": {},
   "outputs": [],
   "source": [
    "df1 = df.select('number_of_photos')\n",
    "df2 = df.select('up_counter')"
   ]
  },
  {
   "cell_type": "code",
   "execution_count": 101,
   "metadata": {},
   "outputs": [
    {
     "name": "stdout",
     "output_type": "stream",
     "text": [
      "+----------+---+\n",
      "|up_counter|  1|\n",
      "+----------+---+\n",
      "|        13|  1|\n",
      "|        54|  1|\n",
      "+----------+---+\n",
      "only showing top 2 rows\n",
      "\n"
     ]
    }
   ],
   "source": [
    "df2 = df2.withColumn('1', F.lit(1))\n",
    "df2.show(2)"
   ]
  },
  {
   "cell_type": "code",
   "execution_count": 36,
   "metadata": {},
   "outputs": [
    {
     "data": {
      "text/plain": [
       "[Row(up_counter='1016')]"
      ]
     },
     "execution_count": 36,
     "metadata": {},
     "output_type": "execute_result"
    }
   ],
   "source": [
    "list_of_rows = df2\\\n",
    "    .filter('up_counter > 1000')\\\n",
    "    .collect()\n",
    "list_of_rows[0:1]"
   ]
  },
  {
   "cell_type": "code",
   "execution_count": 34,
   "metadata": {},
   "outputs": [
    {
     "data": {
      "text/plain": [
       "{'up_counter': '1016'}"
      ]
     },
     "execution_count": 34,
     "metadata": {},
     "output_type": "execute_result"
    }
   ],
   "source": [
    "list_of_rows[0].asDict()"
   ]
  },
  {
   "cell_type": "code",
   "execution_count": 78,
   "metadata": {},
   "outputs": [
    {
     "name": "stdout",
     "output_type": "stream",
     "text": [
      "+----------+\n",
      "|up_counter|\n",
      "+----------+\n",
      "+----------+\n",
      "\n"
     ]
    }
   ],
   "source": [
    "df1 = df2.filter(\"up_counter <= 1000\")\n",
    "df2 = df2.filter(\"up_counter > 1000\").withColumn(\"up_counter\", F.col(\"up_counter\"))\n",
    "df2 = df2.union(df1)\n",
    "df2.filter(\"up_counter > 1000\").show()"
   ]
  },
  {
   "cell_type": "code",
   "execution_count": 125,
   "metadata": {},
   "outputs": [
    {
     "name": "stdout",
     "output_type": "stream",
     "text": [
      "+---+---+----+\n",
      "|min|max| avg|\n",
      "+---+---+----+\n",
      "|  1|  9|9.65|\n",
      "+---+---+----+\n",
      "\n"
     ]
    }
   ],
   "source": [
    "import pyspark.sql.types as t\n",
    "# df1.groupBy().min('number_of_photos').cast(t.IntegerType()).collect()\n",
    "\n",
    "(\n",
    "df1.agg(\n",
    "        F.min(\"number_of_photos\").alias(\"min\"),\n",
    "        F.max(\"number_of_photos\").alias(\"max\"),\n",
    "        F.round(F.avg(\"number_of_photos\"), 2).alias(\"avg\")\n",
    "    )\n",
    ").show()"
   ]
  },
  {
   "cell_type": "code",
   "execution_count": null,
   "metadata": {},
   "outputs": [],
   "source": []
  }
 ],
 "metadata": {
  "kernelspec": {
   "display_name": "Python 3.10.5 ('venv': venv)",
   "language": "python",
   "name": "python3"
  },
  "language_info": {
   "codemirror_mode": {
    "name": "ipython",
    "version": 3
   },
   "file_extension": ".py",
   "mimetype": "text/x-python",
   "name": "python",
   "nbconvert_exporter": "python",
   "pygments_lexer": "ipython3",
   "version": "3.10.5"
  },
  "orig_nbformat": 4,
  "vscode": {
   "interpreter": {
    "hash": "8c959b7588cfd921c36a861fb0e5948b7c23a88cac869734173aa2e8fc3cc7eb"
   }
  }
 },
 "nbformat": 4,
 "nbformat_minor": 2
}
